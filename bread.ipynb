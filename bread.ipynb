{
 "cells": [
  {
   "cell_type": "code",
   "execution_count": 1,
   "id": "d2440ce2",
   "metadata": {},
   "outputs": [],
   "source": [
    "import numpy as np\n",
    "import pandas as pd \n",
    "import matplotlib.pyplot as pyplot\n",
    "import seaborn as sns"
   ]
  },
  {
   "cell_type": "code",
   "execution_count": 2,
   "id": "87166529",
   "metadata": {},
   "outputs": [
    {
     "name": "stdout",
     "output_type": "stream",
     "text": [
      "DataFrame shape : (20507, 5)\n"
     ]
    },
    {
     "data": {
      "application/vnd.microsoft.datawrangler.viewer.v0+json": {
       "columns": [
        {
         "name": "index",
         "rawType": "int64",
         "type": "integer"
        },
        {
         "name": "Transaction",
         "rawType": "int64",
         "type": "integer"
        },
        {
         "name": "Item",
         "rawType": "object",
         "type": "string"
        },
        {
         "name": "date_time",
         "rawType": "object",
         "type": "string"
        },
        {
         "name": "period_day",
         "rawType": "object",
         "type": "string"
        },
        {
         "name": "weekday_weekend",
         "rawType": "object",
         "type": "string"
        }
       ],
       "ref": "eaf2f619-e557-4e7d-af5e-9c7310782723",
       "rows": [
        [
         "0",
         "1",
         "Bread",
         "30-10-2016 09:58",
         "morning",
         "weekend"
        ],
        [
         "1",
         "2",
         "Scandinavian",
         "30-10-2016 10:05",
         "morning",
         "weekend"
        ],
        [
         "2",
         "2",
         "Scandinavian",
         "30-10-2016 10:05",
         "morning",
         "weekend"
        ],
        [
         "3",
         "3",
         "Hot chocolate",
         "30-10-2016 10:07",
         "morning",
         "weekend"
        ],
        [
         "4",
         "3",
         "Jam",
         "30-10-2016 10:07",
         "morning",
         "weekend"
        ]
       ],
       "shape": {
        "columns": 5,
        "rows": 5
       }
      },
      "text/html": [
       "<div>\n",
       "<style scoped>\n",
       "    .dataframe tbody tr th:only-of-type {\n",
       "        vertical-align: middle;\n",
       "    }\n",
       "\n",
       "    .dataframe tbody tr th {\n",
       "        vertical-align: top;\n",
       "    }\n",
       "\n",
       "    .dataframe thead th {\n",
       "        text-align: right;\n",
       "    }\n",
       "</style>\n",
       "<table border=\"1\" class=\"dataframe\">\n",
       "  <thead>\n",
       "    <tr style=\"text-align: right;\">\n",
       "      <th></th>\n",
       "      <th>Transaction</th>\n",
       "      <th>Item</th>\n",
       "      <th>date_time</th>\n",
       "      <th>period_day</th>\n",
       "      <th>weekday_weekend</th>\n",
       "    </tr>\n",
       "  </thead>\n",
       "  <tbody>\n",
       "    <tr>\n",
       "      <th>0</th>\n",
       "      <td>1</td>\n",
       "      <td>Bread</td>\n",
       "      <td>30-10-2016 09:58</td>\n",
       "      <td>morning</td>\n",
       "      <td>weekend</td>\n",
       "    </tr>\n",
       "    <tr>\n",
       "      <th>1</th>\n",
       "      <td>2</td>\n",
       "      <td>Scandinavian</td>\n",
       "      <td>30-10-2016 10:05</td>\n",
       "      <td>morning</td>\n",
       "      <td>weekend</td>\n",
       "    </tr>\n",
       "    <tr>\n",
       "      <th>2</th>\n",
       "      <td>2</td>\n",
       "      <td>Scandinavian</td>\n",
       "      <td>30-10-2016 10:05</td>\n",
       "      <td>morning</td>\n",
       "      <td>weekend</td>\n",
       "    </tr>\n",
       "    <tr>\n",
       "      <th>3</th>\n",
       "      <td>3</td>\n",
       "      <td>Hot chocolate</td>\n",
       "      <td>30-10-2016 10:07</td>\n",
       "      <td>morning</td>\n",
       "      <td>weekend</td>\n",
       "    </tr>\n",
       "    <tr>\n",
       "      <th>4</th>\n",
       "      <td>3</td>\n",
       "      <td>Jam</td>\n",
       "      <td>30-10-2016 10:07</td>\n",
       "      <td>morning</td>\n",
       "      <td>weekend</td>\n",
       "    </tr>\n",
       "  </tbody>\n",
       "</table>\n",
       "</div>"
      ],
      "text/plain": [
       "   Transaction           Item         date_time period_day weekday_weekend\n",
       "0            1          Bread  30-10-2016 09:58    morning         weekend\n",
       "1            2   Scandinavian  30-10-2016 10:05    morning         weekend\n",
       "2            2   Scandinavian  30-10-2016 10:05    morning         weekend\n",
       "3            3  Hot chocolate  30-10-2016 10:07    morning         weekend\n",
       "4            3            Jam  30-10-2016 10:07    morning         weekend"
      ]
     },
     "execution_count": 2,
     "metadata": {},
     "output_type": "execute_result"
    }
   ],
   "source": [
    "data = pd.read_csv(\"bread basket.csv\")\n",
    "print(\"DataFrame shape :\",data.shape)\n",
    "data.head()"
   ]
  },
  {
   "cell_type": "code",
   "execution_count": 10,
   "id": "44a098ea",
   "metadata": {},
   "outputs": [],
   "source": [
    "# Format yang benar untuk data Anda\n",
    "data['date_time'] = pd.to_datetime(data['date_time'], format=\"%d-%m-%Y %H:%M\")"
   ]
  },
  {
   "cell_type": "code",
   "execution_count": 11,
   "id": "290cd01d",
   "metadata": {},
   "outputs": [
    {
     "data": {
      "text/plain": [
       "dtype('<M8[ns]')"
      ]
     },
     "execution_count": 11,
     "metadata": {},
     "output_type": "execute_result"
    }
   ],
   "source": [
    "data[\"date_time\"].dtype"
   ]
  },
  {
   "cell_type": "code",
   "execution_count": 12,
   "id": "1f5cf9c9",
   "metadata": {},
   "outputs": [
    {
     "data": {
      "application/vnd.microsoft.datawrangler.viewer.v0+json": {
       "columns": [
        {
         "name": "index",
         "rawType": "int64",
         "type": "integer"
        },
        {
         "name": "Transaction",
         "rawType": "int64",
         "type": "integer"
        },
        {
         "name": "Item",
         "rawType": "object",
         "type": "string"
        },
        {
         "name": "date_time",
         "rawType": "datetime64[ns]",
         "type": "datetime"
        },
        {
         "name": "period_day",
         "rawType": "object",
         "type": "string"
        },
        {
         "name": "weekday_weekend",
         "rawType": "object",
         "type": "string"
        },
        {
         "name": "month",
         "rawType": "int32",
         "type": "integer"
        },
        {
         "name": "day",
         "rawType": "int32",
         "type": "integer"
        },
        {
         "name": "hour",
         "rawType": "int32",
         "type": "integer"
        }
       ],
       "ref": "3138d830-61bd-4d0e-84b4-2880db283bba",
       "rows": [
        [
         "0",
         "1",
         "Bread",
         "2016-10-30 09:58:00",
         "morning",
         "weekend",
         "10",
         "6",
         "9"
        ],
        [
         "1",
         "2",
         "Scandinavian",
         "2016-10-30 10:05:00",
         "morning",
         "weekend",
         "10",
         "6",
         "10"
        ],
        [
         "2",
         "2",
         "Scandinavian",
         "2016-10-30 10:05:00",
         "morning",
         "weekend",
         "10",
         "6",
         "10"
        ],
        [
         "3",
         "3",
         "Hot chocolate",
         "2016-10-30 10:07:00",
         "morning",
         "weekend",
         "10",
         "6",
         "10"
        ],
        [
         "4",
         "3",
         "Jam",
         "2016-10-30 10:07:00",
         "morning",
         "weekend",
         "10",
         "6",
         "10"
        ]
       ],
       "shape": {
        "columns": 8,
        "rows": 5
       }
      },
      "text/html": [
       "<div>\n",
       "<style scoped>\n",
       "    .dataframe tbody tr th:only-of-type {\n",
       "        vertical-align: middle;\n",
       "    }\n",
       "\n",
       "    .dataframe tbody tr th {\n",
       "        vertical-align: top;\n",
       "    }\n",
       "\n",
       "    .dataframe thead th {\n",
       "        text-align: right;\n",
       "    }\n",
       "</style>\n",
       "<table border=\"1\" class=\"dataframe\">\n",
       "  <thead>\n",
       "    <tr style=\"text-align: right;\">\n",
       "      <th></th>\n",
       "      <th>Transaction</th>\n",
       "      <th>Item</th>\n",
       "      <th>date_time</th>\n",
       "      <th>period_day</th>\n",
       "      <th>weekday_weekend</th>\n",
       "      <th>month</th>\n",
       "      <th>day</th>\n",
       "      <th>hour</th>\n",
       "    </tr>\n",
       "  </thead>\n",
       "  <tbody>\n",
       "    <tr>\n",
       "      <th>0</th>\n",
       "      <td>1</td>\n",
       "      <td>Bread</td>\n",
       "      <td>2016-10-30 09:58:00</td>\n",
       "      <td>morning</td>\n",
       "      <td>weekend</td>\n",
       "      <td>10</td>\n",
       "      <td>6</td>\n",
       "      <td>9</td>\n",
       "    </tr>\n",
       "    <tr>\n",
       "      <th>1</th>\n",
       "      <td>2</td>\n",
       "      <td>Scandinavian</td>\n",
       "      <td>2016-10-30 10:05:00</td>\n",
       "      <td>morning</td>\n",
       "      <td>weekend</td>\n",
       "      <td>10</td>\n",
       "      <td>6</td>\n",
       "      <td>10</td>\n",
       "    </tr>\n",
       "    <tr>\n",
       "      <th>2</th>\n",
       "      <td>2</td>\n",
       "      <td>Scandinavian</td>\n",
       "      <td>2016-10-30 10:05:00</td>\n",
       "      <td>morning</td>\n",
       "      <td>weekend</td>\n",
       "      <td>10</td>\n",
       "      <td>6</td>\n",
       "      <td>10</td>\n",
       "    </tr>\n",
       "    <tr>\n",
       "      <th>3</th>\n",
       "      <td>3</td>\n",
       "      <td>Hot chocolate</td>\n",
       "      <td>2016-10-30 10:07:00</td>\n",
       "      <td>morning</td>\n",
       "      <td>weekend</td>\n",
       "      <td>10</td>\n",
       "      <td>6</td>\n",
       "      <td>10</td>\n",
       "    </tr>\n",
       "    <tr>\n",
       "      <th>4</th>\n",
       "      <td>3</td>\n",
       "      <td>Jam</td>\n",
       "      <td>2016-10-30 10:07:00</td>\n",
       "      <td>morning</td>\n",
       "      <td>weekend</td>\n",
       "      <td>10</td>\n",
       "      <td>6</td>\n",
       "      <td>10</td>\n",
       "    </tr>\n",
       "  </tbody>\n",
       "</table>\n",
       "</div>"
      ],
      "text/plain": [
       "   Transaction           Item           date_time period_day weekday_weekend  \\\n",
       "0            1          Bread 2016-10-30 09:58:00    morning         weekend   \n",
       "1            2   Scandinavian 2016-10-30 10:05:00    morning         weekend   \n",
       "2            2   Scandinavian 2016-10-30 10:05:00    morning         weekend   \n",
       "3            3  Hot chocolate 2016-10-30 10:07:00    morning         weekend   \n",
       "4            3            Jam 2016-10-30 10:07:00    morning         weekend   \n",
       "\n",
       "   month  day  hour  \n",
       "0     10    6     9  \n",
       "1     10    6    10  \n",
       "2     10    6    10  \n",
       "3     10    6    10  \n",
       "4     10    6    10  "
      ]
     },
     "execution_count": 12,
     "metadata": {},
     "output_type": "execute_result"
    }
   ],
   "source": [
    "data[\"month\"] = data['date_time'].dt.month\n",
    "data[\"day\"] = data['date_time'].dt.weekday\n",
    "data['hour'] = data['date_time'].dt.hour\n",
    "data.head()"
   ]
  },
  {
   "cell_type": "code",
   "execution_count": null,
   "id": "dc93cd5c",
   "metadata": {},
   "outputs": [
    {
     "data": {
      "image/png": "[encoded data removed]",
      "text/plain": [
       "<Figure size 1300x500 with 1 Axes>"
      ]
     },
     "metadata": {},
     "output_type": "display_data"
    }
   ],
   "source": [
    "#10 item paling laris\n",
    "\n",
    "from matplotlib import pyplot as plt\n",
    "\n",
    "\n",
    "plt.figure(figsize=(13,5))\n",
    "sns.set_palette(\"muted\")\n",
    "\n",
    "sns.barplot(x = data[\"Item\"].value_counts()[:10].index,\n",
    "            y = data[\"Item\"].value_counts()[:10].values)\n",
    "plt.xlabel(\"\"); plt.ylabel(\"\")\n",
    "plt.xticks(size = 13, rotation = 45)\n",
    "plt.title('10 produk terlaris')\n",
    "plt.show()\n"
   ]
  },
  {
   "cell_type": "code",
   "execution_count": 18,
   "id": "bcb88db9",
   "metadata": {},
   "outputs": [
    {
     "name": "stderr",
     "output_type": "stream",
     "text": [
      "C:\\Users\\fauzan\\AppData\\Local\\Temp\\ipykernel_8932\\771944154.py:6: FutureWarning: \n",
      "\n",
      "Passing `palette` without assigning `hue` is deprecated and will be removed in v0.14.0. Assign the `x` variable to `hue` and set `legend=False` for the same effect.\n",
      "\n",
      "  sns.barplot(x=data[\"Item\"].value_counts()[:10].index,\n"
     ]
    },
    {
     "data": {
      "image/png": "[encoded data removed]",
      "text/plain": [
       "<Figure size 1300x500 with 1 Axes>"
      ]
     },
     "metadata": {},
     "output_type": "display_data"
    }
   ],
   "source": [
    "plt.figure(figsize=(13,5))\n",
    "\n",
    "# Buat palette kustom dengan 10 warna berbeda\n",
    "custom_palette = sns.color_palette(\"hls\", 10)\n",
    "\n",
    "sns.barplot(x=data[\"Item\"].value_counts()[:10].index,\n",
    "            y=data[\"Item\"].value_counts()[:10].values,\n",
    "            palette=custom_palette)\n",
    "\n",
    "plt.xlabel(\"\"); plt.ylabel(\"\")\n",
    "plt.xticks(size=13, rotation=45)\n",
    "plt.title('10 produk terlaris')\n",
    "plt.tight_layout()\n",
    "plt.show()"
   ]
  },
  {
   "cell_type": "code",
   "execution_count": 23,
   "id": "602fa0be",
   "metadata": {},
   "outputs": [
    {
     "data": {
      "text/plain": [
       "Text(0.5, 1.0, 'jumlah transaksi tiap bulan')"
      ]
     },
     "execution_count": 23,
     "metadata": {},
     "output_type": "execute_result"
    },
    {
     "data": {
      "image/png": "[encoded data removed]",
      "text/plain": [
       "<Figure size 800x500 with 1 Axes>"
      ]
     },
     "metadata": {},
     "output_type": "display_data"
    }
   ],
   "source": [
    "# transakasi per bulan\n",
    "\n",
    "data_perbulan = data.groupby('month')['Transaction'].count()\n",
    "data_perbulan = pd.concat([data_perbulan.iloc[4:], data_perbulan.iloc[:4]])\n",
    "\n",
    "plt.figure(figsize= (8,5))\n",
    "sns.barplot(\n",
    "    x = [\"October\", \"November\", \"December\", \"January\", \"February\", \"March\", \"April\"],\n",
    "    y = data_perbulan.values, color=\"#2AA89E\")\n",
    "plt.xticks(size= 12, rotation = -30)\n",
    "plt.title(\"jumlah transaksi tiap bulan\", size = 15)"
   ]
  },
  {
   "cell_type": "code",
   "execution_count": 24,
   "id": "4aab08a6",
   "metadata": {},
   "outputs": [
    {
     "data": {
      "text/plain": [
       "Text(0.5, 1.0, 'jumlah transaksi tiap hari')"
      ]
     },
     "execution_count": 24,
     "metadata": {},
     "output_type": "execute_result"
    },
    {
     "data": {
      "image/png": "[encoded data removed]",
      "text/plain": [
       "<Figure size 800x500 with 1 Axes>"
      ]
     },
     "metadata": {},
     "output_type": "display_data"
    }
   ],
   "source": [
    "#transaksi per hari\n",
    "\n",
    "data_day = data.groupby('day')['Transaction'].count()\n",
    "\n",
    "plt.figure(figsize= (8,5))\n",
    "sns.barplot(\n",
    "    x = [\"Monday\", \"Tuesday\", \"Wednesday\", \"Thursday\", \"Friday\", \"Saturday\", \"Sunday\"],\n",
    "    y = data_day.values, color=\"#3614CE\")\n",
    "plt.xticks(size= 12, rotation = -30)\n",
    "plt.title(\"jumlah transaksi tiap hari\", size = 15)"
   ]
  },
  {
   "cell_type": "code",
   "execution_count": 27,
   "id": "6e50ab24",
   "metadata": {},
   "outputs": [
    {
     "data": {
      "text/plain": [
       "<function matplotlib.pyplot.show(close=None, block=None)>"
      ]
     },
     "execution_count": 27,
     "metadata": {},
     "output_type": "execute_result"
    },
    {
     "data": {
      "image/png": "[encoded data removed]",
      "text/plain": [
       "<Figure size 800x500 with 1 Axes>"
      ]
     },
     "metadata": {},
     "output_type": "display_data"
    }
   ],
   "source": [
    "# pembelian perjam\n",
    "\n",
    "data_hour = data.groupby('hour')['Transaction'].count()\n",
    "\n",
    "plt.figure(figsize= (8,5))\n",
    "sns.barplot(\n",
    "    x = data_hour.index,\n",
    "    y = data_hour.values, color=\"#E411C1\")\n",
    "plt.xlabel('Hour', size= 15)\n",
    "plt.xticks(size= 12)\n",
    "plt.title(\"jumlah transaksi tiap jam\", size = 15)\n",
    "plt.show"
   ]
  },
  {
   "cell_type": "code",
   "execution_count": 28,
   "id": "b0f9be54",
   "metadata": {},
   "outputs": [],
   "source": [
    "# Data Preparation"
   ]
  },
  {
   "cell_type": "code",
   "execution_count": 29,
   "id": "8c81b7dc",
   "metadata": {},
   "outputs": [],
   "source": [
    "data[\"Item\"] = data[\"Item\"].apply(lambda item: item.lower())"
   ]
  },
  {
   "cell_type": "code",
   "execution_count": 31,
   "id": "753cf5a4",
   "metadata": {},
   "outputs": [],
   "source": [
    "data[\"Item\"] = data[\"Item\"].apply(lambda item: item.strip())"
   ]
  },
  {
   "cell_type": "code",
   "execution_count": 32,
   "id": "5d0267be",
   "metadata": {},
   "outputs": [
    {
     "data": {
      "application/vnd.microsoft.datawrangler.viewer.v0+json": {
       "columns": [
        {
         "name": "index",
         "rawType": "int64",
         "type": "integer"
        },
        {
         "name": "Transaction",
         "rawType": "int64",
         "type": "integer"
        },
        {
         "name": "Item",
         "rawType": "object",
         "type": "string"
        }
       ],
       "ref": "21ed9df3-08d7-452f-8de6-91c6773f9608",
       "rows": [
        [
         "0",
         "1",
         "bread"
        ],
        [
         "1",
         "2",
         "scandinavian"
        ],
        [
         "2",
         "2",
         "scandinavian"
        ],
        [
         "3",
         "3",
         "hot chocolate"
        ],
        [
         "4",
         "3",
         "jam"
        ],
        [
         "5",
         "3",
         "cookies"
        ],
        [
         "6",
         "4",
         "muffin"
        ],
        [
         "7",
         "5",
         "coffee"
        ],
        [
         "8",
         "5",
         "pastry"
        ],
        [
         "9",
         "5",
         "bread"
        ]
       ],
       "shape": {
        "columns": 2,
        "rows": 10
       }
      },
      "text/html": [
       "<div>\n",
       "<style scoped>\n",
       "    .dataframe tbody tr th:only-of-type {\n",
       "        vertical-align: middle;\n",
       "    }\n",
       "\n",
       "    .dataframe tbody tr th {\n",
       "        vertical-align: top;\n",
       "    }\n",
       "\n",
       "    .dataframe thead th {\n",
       "        text-align: right;\n",
       "    }\n",
       "</style>\n",
       "<table border=\"1\" class=\"dataframe\">\n",
       "  <thead>\n",
       "    <tr style=\"text-align: right;\">\n",
       "      <th></th>\n",
       "      <th>Transaction</th>\n",
       "      <th>Item</th>\n",
       "    </tr>\n",
       "  </thead>\n",
       "  <tbody>\n",
       "    <tr>\n",
       "      <th>0</th>\n",
       "      <td>1</td>\n",
       "      <td>bread</td>\n",
       "    </tr>\n",
       "    <tr>\n",
       "      <th>1</th>\n",
       "      <td>2</td>\n",
       "      <td>scandinavian</td>\n",
       "    </tr>\n",
       "    <tr>\n",
       "      <th>2</th>\n",
       "      <td>2</td>\n",
       "      <td>scandinavian</td>\n",
       "    </tr>\n",
       "    <tr>\n",
       "      <th>3</th>\n",
       "      <td>3</td>\n",
       "      <td>hot chocolate</td>\n",
       "    </tr>\n",
       "    <tr>\n",
       "      <th>4</th>\n",
       "      <td>3</td>\n",
       "      <td>jam</td>\n",
       "    </tr>\n",
       "    <tr>\n",
       "      <th>5</th>\n",
       "      <td>3</td>\n",
       "      <td>cookies</td>\n",
       "    </tr>\n",
       "    <tr>\n",
       "      <th>6</th>\n",
       "      <td>4</td>\n",
       "      <td>muffin</td>\n",
       "    </tr>\n",
       "    <tr>\n",
       "      <th>7</th>\n",
       "      <td>5</td>\n",
       "      <td>coffee</td>\n",
       "    </tr>\n",
       "    <tr>\n",
       "      <th>8</th>\n",
       "      <td>5</td>\n",
       "      <td>pastry</td>\n",
       "    </tr>\n",
       "    <tr>\n",
       "      <th>9</th>\n",
       "      <td>5</td>\n",
       "      <td>bread</td>\n",
       "    </tr>\n",
       "  </tbody>\n",
       "</table>\n",
       "</div>"
      ],
      "text/plain": [
       "   Transaction           Item\n",
       "0            1          bread\n",
       "1            2   scandinavian\n",
       "2            2   scandinavian\n",
       "3            3  hot chocolate\n",
       "4            3            jam\n",
       "5            3        cookies\n",
       "6            4         muffin\n",
       "7            5         coffee\n",
       "8            5         pastry\n",
       "9            5          bread"
      ]
     },
     "execution_count": 32,
     "metadata": {},
     "output_type": "execute_result"
    }
   ],
   "source": [
    "data = data[[\"Transaction\", \"Item\"]].copy()\n",
    "data.head(10)"
   ]
  },
  {
   "cell_type": "code",
   "execution_count": 33,
   "id": "c23e5355",
   "metadata": {},
   "outputs": [],
   "source": [
    "from mlxtend.frequent_patterns import association_rules, apriori"
   ]
  },
  {
   "cell_type": "code",
   "execution_count": 35,
   "id": "f46e3eda",
   "metadata": {},
   "outputs": [
    {
     "data": {
      "application/vnd.microsoft.datawrangler.viewer.v0+json": {
       "columns": [
        {
         "name": "index",
         "rawType": "int64",
         "type": "integer"
        },
        {
         "name": "Transaction",
         "rawType": "int64",
         "type": "integer"
        },
        {
         "name": "Item",
         "rawType": "object",
         "type": "string"
        },
        {
         "name": "Count",
         "rawType": "int64",
         "type": "integer"
        }
       ],
       "ref": "7f6fb834-4507-4a53-830a-2458384de320",
       "rows": [
        [
         "0",
         "1",
         "bread",
         "1"
        ],
        [
         "1",
         "2",
         "scandinavian",
         "2"
        ],
        [
         "2",
         "3",
         "cookies",
         "1"
        ],
        [
         "3",
         "3",
         "hot chocolate",
         "1"
        ],
        [
         "4",
         "3",
         "jam",
         "1"
        ],
        [
         "5",
         "4",
         "muffin",
         "1"
        ],
        [
         "6",
         "5",
         "bread",
         "1"
        ],
        [
         "7",
         "5",
         "coffee",
         "1"
        ],
        [
         "8",
         "5",
         "pastry",
         "1"
        ],
        [
         "9",
         "6",
         "medialuna",
         "1"
        ]
       ],
       "shape": {
        "columns": 3,
        "rows": 10
       }
      },
      "text/html": [
       "<div>\n",
       "<style scoped>\n",
       "    .dataframe tbody tr th:only-of-type {\n",
       "        vertical-align: middle;\n",
       "    }\n",
       "\n",
       "    .dataframe tbody tr th {\n",
       "        vertical-align: top;\n",
       "    }\n",
       "\n",
       "    .dataframe thead th {\n",
       "        text-align: right;\n",
       "    }\n",
       "</style>\n",
       "<table border=\"1\" class=\"dataframe\">\n",
       "  <thead>\n",
       "    <tr style=\"text-align: right;\">\n",
       "      <th></th>\n",
       "      <th>Transaction</th>\n",
       "      <th>Item</th>\n",
       "      <th>Count</th>\n",
       "    </tr>\n",
       "  </thead>\n",
       "  <tbody>\n",
       "    <tr>\n",
       "      <th>0</th>\n",
       "      <td>1</td>\n",
       "      <td>bread</td>\n",
       "      <td>1</td>\n",
       "    </tr>\n",
       "    <tr>\n",
       "      <th>1</th>\n",
       "      <td>2</td>\n",
       "      <td>scandinavian</td>\n",
       "      <td>2</td>\n",
       "    </tr>\n",
       "    <tr>\n",
       "      <th>2</th>\n",
       "      <td>3</td>\n",
       "      <td>cookies</td>\n",
       "      <td>1</td>\n",
       "    </tr>\n",
       "    <tr>\n",
       "      <th>3</th>\n",
       "      <td>3</td>\n",
       "      <td>hot chocolate</td>\n",
       "      <td>1</td>\n",
       "    </tr>\n",
       "    <tr>\n",
       "      <th>4</th>\n",
       "      <td>3</td>\n",
       "      <td>jam</td>\n",
       "      <td>1</td>\n",
       "    </tr>\n",
       "    <tr>\n",
       "      <th>5</th>\n",
       "      <td>4</td>\n",
       "      <td>muffin</td>\n",
       "      <td>1</td>\n",
       "    </tr>\n",
       "    <tr>\n",
       "      <th>6</th>\n",
       "      <td>5</td>\n",
       "      <td>bread</td>\n",
       "      <td>1</td>\n",
       "    </tr>\n",
       "    <tr>\n",
       "      <th>7</th>\n",
       "      <td>5</td>\n",
       "      <td>coffee</td>\n",
       "      <td>1</td>\n",
       "    </tr>\n",
       "    <tr>\n",
       "      <th>8</th>\n",
       "      <td>5</td>\n",
       "      <td>pastry</td>\n",
       "      <td>1</td>\n",
       "    </tr>\n",
       "    <tr>\n",
       "      <th>9</th>\n",
       "      <td>6</td>\n",
       "      <td>medialuna</td>\n",
       "      <td>1</td>\n",
       "    </tr>\n",
       "  </tbody>\n",
       "</table>\n",
       "</div>"
      ],
      "text/plain": [
       "   Transaction           Item  Count\n",
       "0            1          bread      1\n",
       "1            2   scandinavian      2\n",
       "2            3        cookies      1\n",
       "3            3  hot chocolate      1\n",
       "4            3            jam      1\n",
       "5            4         muffin      1\n",
       "6            5          bread      1\n",
       "7            5         coffee      1\n",
       "8            5         pastry      1\n",
       "9            6      medialuna      1"
      ]
     },
     "execution_count": 35,
     "metadata": {},
     "output_type": "execute_result"
    }
   ],
   "source": [
    "item_count  = data.groupby([\"Transaction\", \"Item\"])[\"Item\"].count().reset_index(name=\"Count\")\n",
    "item_count.head(10)"
   ]
  },
  {
   "cell_type": "code",
   "execution_count": 38,
   "id": "a3fb2c5e",
   "metadata": {},
   "outputs": [
    {
     "name": "stdout",
     "output_type": "stream",
     "text": [
      "Ukuran Dataset : (9465, 94)\n"
     ]
    },
    {
     "data": {
      "application/vnd.microsoft.datawrangler.viewer.v0+json": {
       "columns": [
        {
         "name": "Transaction",
         "rawType": "int64",
         "type": "integer"
        },
        {
         "name": "adjustment",
         "rawType": "float64",
         "type": "float"
        },
        {
         "name": "afternoon with the baker",
         "rawType": "float64",
         "type": "float"
        },
        {
         "name": "alfajores",
         "rawType": "float64",
         "type": "float"
        },
        {
         "name": "argentina night",
         "rawType": "float64",
         "type": "float"
        },
        {
         "name": "art tray",
         "rawType": "float64",
         "type": "float"
        },
        {
         "name": "bacon",
         "rawType": "float64",
         "type": "float"
        },
        {
         "name": "baguette",
         "rawType": "float64",
         "type": "float"
        },
        {
         "name": "bakewell",
         "rawType": "float64",
         "type": "float"
        },
        {
         "name": "bare popcorn",
         "rawType": "float64",
         "type": "float"
        },
        {
         "name": "basket",
         "rawType": "float64",
         "type": "float"
        },
        {
         "name": "bowl nic pitt",
         "rawType": "float64",
         "type": "float"
        },
        {
         "name": "bread",
         "rawType": "float64",
         "type": "float"
        },
        {
         "name": "bread pudding",
         "rawType": "float64",
         "type": "float"
        },
        {
         "name": "brioche and salami",
         "rawType": "float64",
         "type": "float"
        },
        {
         "name": "brownie",
         "rawType": "float64",
         "type": "float"
        },
        {
         "name": "cake",
         "rawType": "float64",
         "type": "float"
        },
        {
         "name": "caramel bites",
         "rawType": "float64",
         "type": "float"
        },
        {
         "name": "cherry me dried fruit",
         "rawType": "float64",
         "type": "float"
        },
        {
         "name": "chicken sand",
         "rawType": "float64",
         "type": "float"
        },
        {
         "name": "chicken stew",
         "rawType": "float64",
         "type": "float"
        },
        {
         "name": "chimichurri oil",
         "rawType": "float64",
         "type": "float"
        },
        {
         "name": "chocolates",
         "rawType": "float64",
         "type": "float"
        },
        {
         "name": "christmas common",
         "rawType": "float64",
         "type": "float"
        },
        {
         "name": "coffee",
         "rawType": "float64",
         "type": "float"
        },
        {
         "name": "coffee granules",
         "rawType": "float64",
         "type": "float"
        },
        {
         "name": "coke",
         "rawType": "float64",
         "type": "float"
        },
        {
         "name": "cookies",
         "rawType": "float64",
         "type": "float"
        },
        {
         "name": "crepes",
         "rawType": "float64",
         "type": "float"
        },
        {
         "name": "crisps",
         "rawType": "float64",
         "type": "float"
        },
        {
         "name": "drinking chocolate spoons",
         "rawType": "float64",
         "type": "float"
        },
        {
         "name": "duck egg",
         "rawType": "float64",
         "type": "float"
        },
        {
         "name": "dulce de leche",
         "rawType": "float64",
         "type": "float"
        },
        {
         "name": "eggs",
         "rawType": "float64",
         "type": "float"
        },
        {
         "name": "ella's kitchen pouches",
         "rawType": "float64",
         "type": "float"
        },
        {
         "name": "empanadas",
         "rawType": "float64",
         "type": "float"
        },
        {
         "name": "extra salami or feta",
         "rawType": "float64",
         "type": "float"
        },
        {
         "name": "fairy doors",
         "rawType": "float64",
         "type": "float"
        },
        {
         "name": "farm house",
         "rawType": "float64",
         "type": "float"
        },
        {
         "name": "focaccia",
         "rawType": "float64",
         "type": "float"
        },
        {
         "name": "frittata",
         "rawType": "float64",
         "type": "float"
        },
        {
         "name": "fudge",
         "rawType": "float64",
         "type": "float"
        },
        {
         "name": "gift voucher",
         "rawType": "float64",
         "type": "float"
        },
        {
         "name": "gingerbread syrup",
         "rawType": "float64",
         "type": "float"
        },
        {
         "name": "granola",
         "rawType": "float64",
         "type": "float"
        },
        {
         "name": "hack the stack",
         "rawType": "float64",
         "type": "float"
        },
        {
         "name": "half slice monster",
         "rawType": "float64",
         "type": "float"
        },
        {
         "name": "hearty & seasonal",
         "rawType": "float64",
         "type": "float"
        },
        {
         "name": "honey",
         "rawType": "float64",
         "type": "float"
        },
        {
         "name": "hot chocolate",
         "rawType": "float64",
         "type": "float"
        },
        {
         "name": "jam",
         "rawType": "float64",
         "type": "float"
        },
        {
         "name": "jammie dodgers",
         "rawType": "float64",
         "type": "float"
        },
        {
         "name": "juice",
         "rawType": "float64",
         "type": "float"
        },
        {
         "name": "keeping it local",
         "rawType": "float64",
         "type": "float"
        },
        {
         "name": "kids biscuit",
         "rawType": "float64",
         "type": "float"
        },
        {
         "name": "lemon and coconut",
         "rawType": "float64",
         "type": "float"
        },
        {
         "name": "medialuna",
         "rawType": "float64",
         "type": "float"
        },
        {
         "name": "mighty protein",
         "rawType": "float64",
         "type": "float"
        },
        {
         "name": "mineral water",
         "rawType": "float64",
         "type": "float"
        },
        {
         "name": "mortimer",
         "rawType": "float64",
         "type": "float"
        },
        {
         "name": "muesli",
         "rawType": "float64",
         "type": "float"
        },
        {
         "name": "muffin",
         "rawType": "float64",
         "type": "float"
        },
        {
         "name": "my-5 fruit shoot",
         "rawType": "float64",
         "type": "float"
        },
        {
         "name": "nomad bag",
         "rawType": "float64",
         "type": "float"
        },
        {
         "name": "olum & polenta",
         "rawType": "float64",
         "type": "float"
        },
        {
         "name": "panatone",
         "rawType": "float64",
         "type": "float"
        },
        {
         "name": "pastry",
         "rawType": "float64",
         "type": "float"
        },
        {
         "name": "pick and mix bowls",
         "rawType": "float64",
         "type": "float"
        },
        {
         "name": "pintxos",
         "rawType": "float64",
         "type": "float"
        },
        {
         "name": "polenta",
         "rawType": "float64",
         "type": "float"
        },
        {
         "name": "postcard",
         "rawType": "float64",
         "type": "float"
        },
        {
         "name": "raspberry shortbread sandwich",
         "rawType": "float64",
         "type": "float"
        },
        {
         "name": "raw bars",
         "rawType": "float64",
         "type": "float"
        },
        {
         "name": "salad",
         "rawType": "float64",
         "type": "float"
        },
        {
         "name": "sandwich",
         "rawType": "float64",
         "type": "float"
        },
        {
         "name": "scandinavian",
         "rawType": "float64",
         "type": "float"
        },
        {
         "name": "scone",
         "rawType": "float64",
         "type": "float"
        },
        {
         "name": "siblings",
         "rawType": "float64",
         "type": "float"
        },
        {
         "name": "smoothies",
         "rawType": "float64",
         "type": "float"
        },
        {
         "name": "soup",
         "rawType": "float64",
         "type": "float"
        },
        {
         "name": "spanish brunch",
         "rawType": "float64",
         "type": "float"
        },
        {
         "name": "spread",
         "rawType": "float64",
         "type": "float"
        },
        {
         "name": "tacos/fajita",
         "rawType": "float64",
         "type": "float"
        },
        {
         "name": "tartine",
         "rawType": "float64",
         "type": "float"
        },
        {
         "name": "tea",
         "rawType": "float64",
         "type": "float"
        },
        {
         "name": "the bart",
         "rawType": "float64",
         "type": "float"
        },
        {
         "name": "the nomad",
         "rawType": "float64",
         "type": "float"
        },
        {
         "name": "tiffin",
         "rawType": "float64",
         "type": "float"
        },
        {
         "name": "toast",
         "rawType": "float64",
         "type": "float"
        },
        {
         "name": "truffles",
         "rawType": "float64",
         "type": "float"
        },
        {
         "name": "tshirt",
         "rawType": "float64",
         "type": "float"
        },
        {
         "name": "valentine's card",
         "rawType": "float64",
         "type": "float"
        },
        {
         "name": "vegan feast",
         "rawType": "float64",
         "type": "float"
        },
        {
         "name": "vegan mincepie",
         "rawType": "float64",
         "type": "float"
        },
        {
         "name": "victorian sponge",
         "rawType": "float64",
         "type": "float"
        }
       ],
       "ref": "319ac13e-e3ce-4e51-9529-a4c4dc3c4274",
       "rows": [
        [
         "1",
         "0.0",
         "0.0",
         "0.0",
         "0.0",
         "0.0",
         "0.0",
         "0.0",
         "0.0",
         "0.0",
         "0.0",
         "0.0",
         "1.0",
         "0.0",
         "0.0",
         "0.0",
         "0.0",
         "0.0",
         "0.0",
         "0.0",
         "0.0",
         "0.0",
         "0.0",
         "0.0",
         "0.0",
         "0.0",
         "0.0",
         "0.0",
         "0.0",
         "0.0",
         "0.0",
         "0.0",
         "0.0",
         "0.0",
         "0.0",
         "0.0",
         "0.0",
         "0.0",
         "0.0",
         "0.0",
         "0.0",
         "0.0",
         "0.0",
         "0.0",
         "0.0",
         "0.0",
         "0.0",
         "0.0",
         "0.0",
         "0.0",
         "0.0",
         "0.0",
         "0.0",
         "0.0",
         "0.0",
         "0.0",
         "0.0",
         "0.0",
         "0.0",
         "0.0",
         "0.0",
         "0.0",
         "0.0",
         "0.0",
         "0.0",
         "0.0",
         "0.0",
         "0.0",
         "0.0",
         "0.0",
         "0.0",
         "0.0",
         "0.0",
         "0.0",
         "0.0",
         "0.0",
         "0.0",
         "0.0",
         "0.0",
         "0.0",
         "0.0",
         "0.0",
         "0.0",
         "0.0",
         "0.0",
         "0.0",
         "0.0",
         "0.0",
         "0.0",
         "0.0",
         "0.0",
         "0.0",
         "0.0",
         "0.0",
         "0.0"
        ],
        [
         "2",
         "0.0",
         "0.0",
         "0.0",
         "0.0",
         "0.0",
         "0.0",
         "0.0",
         "0.0",
         "0.0",
         "0.0",
         "0.0",
         "0.0",
         "0.0",
         "0.0",
         "0.0",
         "0.0",
         "0.0",
         "0.0",
         "0.0",
         "0.0",
         "0.0",
         "0.0",
         "0.0",
         "0.0",
         "0.0",
         "0.0",
         "0.0",
         "0.0",
         "0.0",
         "0.0",
         "0.0",
         "0.0",
         "0.0",
         "0.0",
         "0.0",
         "0.0",
         "0.0",
         "0.0",
         "0.0",
         "0.0",
         "0.0",
         "0.0",
         "0.0",
         "0.0",
         "0.0",
         "0.0",
         "0.0",
         "0.0",
         "0.0",
         "0.0",
         "0.0",
         "0.0",
         "0.0",
         "0.0",
         "0.0",
         "0.0",
         "0.0",
         "0.0",
         "0.0",
         "0.0",
         "0.0",
         "0.0",
         "0.0",
         "0.0",
         "0.0",
         "0.0",
         "0.0",
         "0.0",
         "0.0",
         "0.0",
         "0.0",
         "0.0",
         "0.0",
         "0.0",
         "2.0",
         "0.0",
         "0.0",
         "0.0",
         "0.0",
         "0.0",
         "0.0",
         "0.0",
         "0.0",
         "0.0",
         "0.0",
         "0.0",
         "0.0",
         "0.0",
         "0.0",
         "0.0",
         "0.0",
         "0.0",
         "0.0",
         "0.0"
        ],
        [
         "3",
         "0.0",
         "0.0",
         "0.0",
         "0.0",
         "0.0",
         "0.0",
         "0.0",
         "0.0",
         "0.0",
         "0.0",
         "0.0",
         "0.0",
         "0.0",
         "0.0",
         "0.0",
         "0.0",
         "0.0",
         "0.0",
         "0.0",
         "0.0",
         "0.0",
         "0.0",
         "0.0",
         "0.0",
         "0.0",
         "0.0",
         "1.0",
         "0.0",
         "0.0",
         "0.0",
         "0.0",
         "0.0",
         "0.0",
         "0.0",
         "0.0",
         "0.0",
         "0.0",
         "0.0",
         "0.0",
         "0.0",
         "0.0",
         "0.0",
         "0.0",
         "0.0",
         "0.0",
         "0.0",
         "0.0",
         "0.0",
         "1.0",
         "1.0",
         "0.0",
         "0.0",
         "0.0",
         "0.0",
         "0.0",
         "0.0",
         "0.0",
         "0.0",
         "0.0",
         "0.0",
         "0.0",
         "0.0",
         "0.0",
         "0.0",
         "0.0",
         "0.0",
         "0.0",
         "0.0",
         "0.0",
         "0.0",
         "0.0",
         "0.0",
         "0.0",
         "0.0",
         "0.0",
         "0.0",
         "0.0",
         "0.0",
         "0.0",
         "0.0",
         "0.0",
         "0.0",
         "0.0",
         "0.0",
         "0.0",
         "0.0",
         "0.0",
         "0.0",
         "0.0",
         "0.0",
         "0.0",
         "0.0",
         "0.0",
         "0.0"
        ],
        [
         "4",
         "0.0",
         "0.0",
         "0.0",
         "0.0",
         "0.0",
         "0.0",
         "0.0",
         "0.0",
         "0.0",
         "0.0",
         "0.0",
         "0.0",
         "0.0",
         "0.0",
         "0.0",
         "0.0",
         "0.0",
         "0.0",
         "0.0",
         "0.0",
         "0.0",
         "0.0",
         "0.0",
         "0.0",
         "0.0",
         "0.0",
         "0.0",
         "0.0",
         "0.0",
         "0.0",
         "0.0",
         "0.0",
         "0.0",
         "0.0",
         "0.0",
         "0.0",
         "0.0",
         "0.0",
         "0.0",
         "0.0",
         "0.0",
         "0.0",
         "0.0",
         "0.0",
         "0.0",
         "0.0",
         "0.0",
         "0.0",
         "0.0",
         "0.0",
         "0.0",
         "0.0",
         "0.0",
         "0.0",
         "0.0",
         "0.0",
         "0.0",
         "0.0",
         "0.0",
         "0.0",
         "1.0",
         "0.0",
         "0.0",
         "0.0",
         "0.0",
         "0.0",
         "0.0",
         "0.0",
         "0.0",
         "0.0",
         "0.0",
         "0.0",
         "0.0",
         "0.0",
         "0.0",
         "0.0",
         "0.0",
         "0.0",
         "0.0",
         "0.0",
         "0.0",
         "0.0",
         "0.0",
         "0.0",
         "0.0",
         "0.0",
         "0.0",
         "0.0",
         "0.0",
         "0.0",
         "0.0",
         "0.0",
         "0.0",
         "0.0"
        ],
        [
         "5",
         "0.0",
         "0.0",
         "0.0",
         "0.0",
         "0.0",
         "0.0",
         "0.0",
         "0.0",
         "0.0",
         "0.0",
         "0.0",
         "1.0",
         "0.0",
         "0.0",
         "0.0",
         "0.0",
         "0.0",
         "0.0",
         "0.0",
         "0.0",
         "0.0",
         "0.0",
         "0.0",
         "1.0",
         "0.0",
         "0.0",
         "0.0",
         "0.0",
         "0.0",
         "0.0",
         "0.0",
         "0.0",
         "0.0",
         "0.0",
         "0.0",
         "0.0",
         "0.0",
         "0.0",
         "0.0",
         "0.0",
         "0.0",
         "0.0",
         "0.0",
         "0.0",
         "0.0",
         "0.0",
         "0.0",
         "0.0",
         "0.0",
         "0.0",
         "0.0",
         "0.0",
         "0.0",
         "0.0",
         "0.0",
         "0.0",
         "0.0",
         "0.0",
         "0.0",
         "0.0",
         "0.0",
         "0.0",
         "0.0",
         "0.0",
         "0.0",
         "1.0",
         "0.0",
         "0.0",
         "0.0",
         "0.0",
         "0.0",
         "0.0",
         "0.0",
         "0.0",
         "0.0",
         "0.0",
         "0.0",
         "0.0",
         "0.0",
         "0.0",
         "0.0",
         "0.0",
         "0.0",
         "0.0",
         "0.0",
         "0.0",
         "0.0",
         "0.0",
         "0.0",
         "0.0",
         "0.0",
         "0.0",
         "0.0",
         "0.0"
        ]
       ],
       "shape": {
        "columns": 94,
        "rows": 5
       }
      },
      "text/html": [
       "<div>\n",
       "<style scoped>\n",
       "    .dataframe tbody tr th:only-of-type {\n",
       "        vertical-align: middle;\n",
       "    }\n",
       "\n",
       "    .dataframe tbody tr th {\n",
       "        vertical-align: top;\n",
       "    }\n",
       "\n",
       "    .dataframe thead th {\n",
       "        text-align: right;\n",
       "    }\n",
       "</style>\n",
       "<table border=\"1\" class=\"dataframe\">\n",
       "  <thead>\n",
       "    <tr style=\"text-align: right;\">\n",
       "      <th>Item</th>\n",
       "      <th>adjustment</th>\n",
       "      <th>afternoon with the baker</th>\n",
       "      <th>alfajores</th>\n",
       "      <th>argentina night</th>\n",
       "      <th>art tray</th>\n",
       "      <th>bacon</th>\n",
       "      <th>baguette</th>\n",
       "      <th>bakewell</th>\n",
       "      <th>bare popcorn</th>\n",
       "      <th>basket</th>\n",
       "      <th>...</th>\n",
       "      <th>the bart</th>\n",
       "      <th>the nomad</th>\n",
       "      <th>tiffin</th>\n",
       "      <th>toast</th>\n",
       "      <th>truffles</th>\n",
       "      <th>tshirt</th>\n",
       "      <th>valentine's card</th>\n",
       "      <th>vegan feast</th>\n",
       "      <th>vegan mincepie</th>\n",
       "      <th>victorian sponge</th>\n",
       "    </tr>\n",
       "    <tr>\n",
       "      <th>Transaction</th>\n",
       "      <th></th>\n",
       "      <th></th>\n",
       "      <th></th>\n",
       "      <th></th>\n",
       "      <th></th>\n",
       "      <th></th>\n",
       "      <th></th>\n",
       "      <th></th>\n",
       "      <th></th>\n",
       "      <th></th>\n",
       "      <th></th>\n",
       "      <th></th>\n",
       "      <th></th>\n",
       "      <th></th>\n",
       "      <th></th>\n",
       "      <th></th>\n",
       "      <th></th>\n",
       "      <th></th>\n",
       "      <th></th>\n",
       "      <th></th>\n",
       "      <th></th>\n",
       "    </tr>\n",
       "  </thead>\n",
       "  <tbody>\n",
       "    <tr>\n",
       "      <th>1</th>\n",
       "      <td>0.0</td>\n",
       "      <td>0.0</td>\n",
       "      <td>0.0</td>\n",
       "      <td>0.0</td>\n",
       "      <td>0.0</td>\n",
       "      <td>0.0</td>\n",
       "      <td>0.0</td>\n",
       "      <td>0.0</td>\n",
       "      <td>0.0</td>\n",
       "      <td>0.0</td>\n",
       "      <td>...</td>\n",
       "      <td>0.0</td>\n",
       "      <td>0.0</td>\n",
       "      <td>0.0</td>\n",
       "      <td>0.0</td>\n",
       "      <td>0.0</td>\n",
       "      <td>0.0</td>\n",
       "      <td>0.0</td>\n",
       "      <td>0.0</td>\n",
       "      <td>0.0</td>\n",
       "      <td>0.0</td>\n",
       "    </tr>\n",
       "    <tr>\n",
       "      <th>2</th>\n",
       "      <td>0.0</td>\n",
       "      <td>0.0</td>\n",
       "      <td>0.0</td>\n",
       "      <td>0.0</td>\n",
       "      <td>0.0</td>\n",
       "      <td>0.0</td>\n",
       "      <td>0.0</td>\n",
       "      <td>0.0</td>\n",
       "      <td>0.0</td>\n",
       "      <td>0.0</td>\n",
       "      <td>...</td>\n",
       "      <td>0.0</td>\n",
       "      <td>0.0</td>\n",
       "      <td>0.0</td>\n",
       "      <td>0.0</td>\n",
       "      <td>0.0</td>\n",
       "      <td>0.0</td>\n",
       "      <td>0.0</td>\n",
       "      <td>0.0</td>\n",
       "      <td>0.0</td>\n",
       "      <td>0.0</td>\n",
       "    </tr>\n",
       "    <tr>\n",
       "      <th>3</th>\n",
       "      <td>0.0</td>\n",
       "      <td>0.0</td>\n",
       "      <td>0.0</td>\n",
       "      <td>0.0</td>\n",
       "      <td>0.0</td>\n",
       "      <td>0.0</td>\n",
       "      <td>0.0</td>\n",
       "      <td>0.0</td>\n",
       "      <td>0.0</td>\n",
       "      <td>0.0</td>\n",
       "      <td>...</td>\n",
       "      <td>0.0</td>\n",
       "      <td>0.0</td>\n",
       "      <td>0.0</td>\n",
       "      <td>0.0</td>\n",
       "      <td>0.0</td>\n",
       "      <td>0.0</td>\n",
       "      <td>0.0</td>\n",
       "      <td>0.0</td>\n",
       "      <td>0.0</td>\n",
       "      <td>0.0</td>\n",
       "    </tr>\n",
       "    <tr>\n",
       "      <th>4</th>\n",
       "      <td>0.0</td>\n",
       "      <td>0.0</td>\n",
       "      <td>0.0</td>\n",
       "      <td>0.0</td>\n",
       "      <td>0.0</td>\n",
       "      <td>0.0</td>\n",
       "      <td>0.0</td>\n",
       "      <td>0.0</td>\n",
       "      <td>0.0</td>\n",
       "      <td>0.0</td>\n",
       "      <td>...</td>\n",
       "      <td>0.0</td>\n",
       "      <td>0.0</td>\n",
       "      <td>0.0</td>\n",
       "      <td>0.0</td>\n",
       "      <td>0.0</td>\n",
       "      <td>0.0</td>\n",
       "      <td>0.0</td>\n",
       "      <td>0.0</td>\n",
       "      <td>0.0</td>\n",
       "      <td>0.0</td>\n",
       "    </tr>\n",
       "    <tr>\n",
       "      <th>5</th>\n",
       "      <td>0.0</td>\n",
       "      <td>0.0</td>\n",
       "      <td>0.0</td>\n",
       "      <td>0.0</td>\n",
       "      <td>0.0</td>\n",
       "      <td>0.0</td>\n",
       "      <td>0.0</td>\n",
       "      <td>0.0</td>\n",
       "      <td>0.0</td>\n",
       "      <td>0.0</td>\n",
       "      <td>...</td>\n",
       "      <td>0.0</td>\n",
       "      <td>0.0</td>\n",
       "      <td>0.0</td>\n",
       "      <td>0.0</td>\n",
       "      <td>0.0</td>\n",
       "      <td>0.0</td>\n",
       "      <td>0.0</td>\n",
       "      <td>0.0</td>\n",
       "      <td>0.0</td>\n",
       "      <td>0.0</td>\n",
       "    </tr>\n",
       "  </tbody>\n",
       "</table>\n",
       "<p>5 rows × 94 columns</p>\n",
       "</div>"
      ],
      "text/plain": [
       "Item         adjustment  afternoon with the baker  alfajores  argentina night  \\\n",
       "Transaction                                                                     \n",
       "1                   0.0                       0.0        0.0              0.0   \n",
       "2                   0.0                       0.0        0.0              0.0   \n",
       "3                   0.0                       0.0        0.0              0.0   \n",
       "4                   0.0                       0.0        0.0              0.0   \n",
       "5                   0.0                       0.0        0.0              0.0   \n",
       "\n",
       "Item         art tray  bacon  baguette  bakewell  bare popcorn  basket  ...  \\\n",
       "Transaction                                                             ...   \n",
       "1                 0.0    0.0       0.0       0.0           0.0     0.0  ...   \n",
       "2                 0.0    0.0       0.0       0.0           0.0     0.0  ...   \n",
       "3                 0.0    0.0       0.0       0.0           0.0     0.0  ...   \n",
       "4                 0.0    0.0       0.0       0.0           0.0     0.0  ...   \n",
       "5                 0.0    0.0       0.0       0.0           0.0     0.0  ...   \n",
       "\n",
       "Item         the bart  the nomad  tiffin  toast  truffles  tshirt  \\\n",
       "Transaction                                                         \n",
       "1                 0.0        0.0     0.0    0.0       0.0     0.0   \n",
       "2                 0.0        0.0     0.0    0.0       0.0     0.0   \n",
       "3                 0.0        0.0     0.0    0.0       0.0     0.0   \n",
       "4                 0.0        0.0     0.0    0.0       0.0     0.0   \n",
       "5                 0.0        0.0     0.0    0.0       0.0     0.0   \n",
       "\n",
       "Item         valentine's card  vegan feast  vegan mincepie  victorian sponge  \n",
       "Transaction                                                                   \n",
       "1                         0.0          0.0             0.0               0.0  \n",
       "2                         0.0          0.0             0.0               0.0  \n",
       "3                         0.0          0.0             0.0               0.0  \n",
       "4                         0.0          0.0             0.0               0.0  \n",
       "5                         0.0          0.0             0.0               0.0  \n",
       "\n",
       "[5 rows x 94 columns]"
      ]
     },
     "execution_count": 38,
     "metadata": {},
     "output_type": "execute_result"
    }
   ],
   "source": [
    "item_count_pivot = item_count.pivot_table(index='Transaction', columns='Item', values='Count', aggfunc='sum').fillna(0)\n",
    "print(\"Ukuran Dataset :\", item_count_pivot.shape)\n",
    "item_count_pivot.head()"
   ]
  },
  {
   "cell_type": "code",
   "execution_count": 39,
   "id": "be97328c",
   "metadata": {},
   "outputs": [
    {
     "data": {
      "application/vnd.microsoft.datawrangler.viewer.v0+json": {
       "columns": [
        {
         "name": "Transaction",
         "rawType": "int64",
         "type": "integer"
        },
        {
         "name": "adjustment",
         "rawType": "int32",
         "type": "integer"
        },
        {
         "name": "afternoon with the baker",
         "rawType": "int32",
         "type": "integer"
        },
        {
         "name": "alfajores",
         "rawType": "int32",
         "type": "integer"
        },
        {
         "name": "argentina night",
         "rawType": "int32",
         "type": "integer"
        },
        {
         "name": "art tray",
         "rawType": "int32",
         "type": "integer"
        },
        {
         "name": "bacon",
         "rawType": "int32",
         "type": "integer"
        },
        {
         "name": "baguette",
         "rawType": "int32",
         "type": "integer"
        },
        {
         "name": "bakewell",
         "rawType": "int32",
         "type": "integer"
        },
        {
         "name": "bare popcorn",
         "rawType": "int32",
         "type": "integer"
        },
        {
         "name": "basket",
         "rawType": "int32",
         "type": "integer"
        },
        {
         "name": "bowl nic pitt",
         "rawType": "int32",
         "type": "integer"
        },
        {
         "name": "bread",
         "rawType": "int32",
         "type": "integer"
        },
        {
         "name": "bread pudding",
         "rawType": "int32",
         "type": "integer"
        },
        {
         "name": "brioche and salami",
         "rawType": "int32",
         "type": "integer"
        },
        {
         "name": "brownie",
         "rawType": "int32",
         "type": "integer"
        },
        {
         "name": "cake",
         "rawType": "int32",
         "type": "integer"
        },
        {
         "name": "caramel bites",
         "rawType": "int32",
         "type": "integer"
        },
        {
         "name": "cherry me dried fruit",
         "rawType": "int32",
         "type": "integer"
        },
        {
         "name": "chicken sand",
         "rawType": "int32",
         "type": "integer"
        },
        {
         "name": "chicken stew",
         "rawType": "int32",
         "type": "integer"
        },
        {
         "name": "chimichurri oil",
         "rawType": "int32",
         "type": "integer"
        },
        {
         "name": "chocolates",
         "rawType": "int32",
         "type": "integer"
        },
        {
         "name": "christmas common",
         "rawType": "int32",
         "type": "integer"
        },
        {
         "name": "coffee",
         "rawType": "int32",
         "type": "integer"
        },
        {
         "name": "coffee granules",
         "rawType": "int32",
         "type": "integer"
        },
        {
         "name": "coke",
         "rawType": "int32",
         "type": "integer"
        },
        {
         "name": "cookies",
         "rawType": "int32",
         "type": "integer"
        },
        {
         "name": "crepes",
         "rawType": "int32",
         "type": "integer"
        },
        {
         "name": "crisps",
         "rawType": "int32",
         "type": "integer"
        },
        {
         "name": "drinking chocolate spoons",
         "rawType": "int32",
         "type": "integer"
        },
        {
         "name": "duck egg",
         "rawType": "int32",
         "type": "integer"
        },
        {
         "name": "dulce de leche",
         "rawType": "int32",
         "type": "integer"
        },
        {
         "name": "eggs",
         "rawType": "int32",
         "type": "integer"
        },
        {
         "name": "ella's kitchen pouches",
         "rawType": "int32",
         "type": "integer"
        },
        {
         "name": "empanadas",
         "rawType": "int32",
         "type": "integer"
        },
        {
         "name": "extra salami or feta",
         "rawType": "int32",
         "type": "integer"
        },
        {
         "name": "fairy doors",
         "rawType": "int32",
         "type": "integer"
        },
        {
         "name": "farm house",
         "rawType": "int32",
         "type": "integer"
        },
        {
         "name": "focaccia",
         "rawType": "int32",
         "type": "integer"
        },
        {
         "name": "frittata",
         "rawType": "int32",
         "type": "integer"
        },
        {
         "name": "fudge",
         "rawType": "int32",
         "type": "integer"
        },
        {
         "name": "gift voucher",
         "rawType": "int32",
         "type": "integer"
        },
        {
         "name": "gingerbread syrup",
         "rawType": "int32",
         "type": "integer"
        },
        {
         "name": "granola",
         "rawType": "int32",
         "type": "integer"
        },
        {
         "name": "hack the stack",
         "rawType": "int32",
         "type": "integer"
        },
        {
         "name": "half slice monster",
         "rawType": "int32",
         "type": "integer"
        },
        {
         "name": "hearty & seasonal",
         "rawType": "int32",
         "type": "integer"
        },
        {
         "name": "honey",
         "rawType": "int32",
         "type": "integer"
        },
        {
         "name": "hot chocolate",
         "rawType": "int32",
         "type": "integer"
        },
        {
         "name": "jam",
         "rawType": "int32",
         "type": "integer"
        },
        {
         "name": "jammie dodgers",
         "rawType": "int32",
         "type": "integer"
        },
        {
         "name": "juice",
         "rawType": "int32",
         "type": "integer"
        },
        {
         "name": "keeping it local",
         "rawType": "int32",
         "type": "integer"
        },
        {
         "name": "kids biscuit",
         "rawType": "int32",
         "type": "integer"
        },
        {
         "name": "lemon and coconut",
         "rawType": "int32",
         "type": "integer"
        },
        {
         "name": "medialuna",
         "rawType": "int32",
         "type": "integer"
        },
        {
         "name": "mighty protein",
         "rawType": "int32",
         "type": "integer"
        },
        {
         "name": "mineral water",
         "rawType": "int32",
         "type": "integer"
        },
        {
         "name": "mortimer",
         "rawType": "int32",
         "type": "integer"
        },
        {
         "name": "muesli",
         "rawType": "int32",
         "type": "integer"
        },
        {
         "name": "muffin",
         "rawType": "int32",
         "type": "integer"
        },
        {
         "name": "my-5 fruit shoot",
         "rawType": "int32",
         "type": "integer"
        },
        {
         "name": "nomad bag",
         "rawType": "int32",
         "type": "integer"
        },
        {
         "name": "olum & polenta",
         "rawType": "int32",
         "type": "integer"
        },
        {
         "name": "panatone",
         "rawType": "int32",
         "type": "integer"
        },
        {
         "name": "pastry",
         "rawType": "int32",
         "type": "integer"
        },
        {
         "name": "pick and mix bowls",
         "rawType": "int32",
         "type": "integer"
        },
        {
         "name": "pintxos",
         "rawType": "int32",
         "type": "integer"
        },
        {
         "name": "polenta",
         "rawType": "int32",
         "type": "integer"
        },
        {
         "name": "postcard",
         "rawType": "int32",
         "type": "integer"
        },
        {
         "name": "raspberry shortbread sandwich",
         "rawType": "int32",
         "type": "integer"
        },
        {
         "name": "raw bars",
         "rawType": "int32",
         "type": "integer"
        },
        {
         "name": "salad",
         "rawType": "int32",
         "type": "integer"
        },
        {
         "name": "sandwich",
         "rawType": "int32",
         "type": "integer"
        },
        {
         "name": "scandinavian",
         "rawType": "int32",
         "type": "integer"
        },
        {
         "name": "scone",
         "rawType": "int32",
         "type": "integer"
        },
        {
         "name": "siblings",
         "rawType": "int32",
         "type": "integer"
        },
        {
         "name": "smoothies",
         "rawType": "int32",
         "type": "integer"
        },
        {
         "name": "soup",
         "rawType": "int32",
         "type": "integer"
        },
        {
         "name": "spanish brunch",
         "rawType": "int32",
         "type": "integer"
        },
        {
         "name": "spread",
         "rawType": "int32",
         "type": "integer"
        },
        {
         "name": "tacos/fajita",
         "rawType": "int32",
         "type": "integer"
        },
        {
         "name": "tartine",
         "rawType": "int32",
         "type": "integer"
        },
        {
         "name": "tea",
         "rawType": "int32",
         "type": "integer"
        },
        {
         "name": "the bart",
         "rawType": "int32",
         "type": "integer"
        },
        {
         "name": "the nomad",
         "rawType": "int32",
         "type": "integer"
        },
        {
         "name": "tiffin",
         "rawType": "int32",
         "type": "integer"
        },
        {
         "name": "toast",
         "rawType": "int32",
         "type": "integer"
        },
        {
         "name": "truffles",
         "rawType": "int32",
         "type": "integer"
        },
        {
         "name": "tshirt",
         "rawType": "int32",
         "type": "integer"
        },
        {
         "name": "valentine's card",
         "rawType": "int32",
         "type": "integer"
        },
        {
         "name": "vegan feast",
         "rawType": "int32",
         "type": "integer"
        },
        {
         "name": "vegan mincepie",
         "rawType": "int32",
         "type": "integer"
        },
        {
         "name": "victorian sponge",
         "rawType": "int32",
         "type": "integer"
        }
       ],
       "ref": "ff07a4c7-424b-4444-a138-671c46dfffc6",
       "rows": [
        [
         "1",
         "0",
         "0",
         "0",
         "0",
         "0",
         "0",
         "0",
         "0",
         "0",
         "0",
         "0",
         "1",
         "0",
         "0",
         "0",
         "0",
         "0",
         "0",
         "0",
         "0",
         "0",
         "0",
         "0",
         "0",
         "0",
         "0",
         "0",
         "0",
         "0",
         "0",
         "0",
         "0",
         "0",
         "0",
         "0",
         "0",
         "0",
         "0",
         "0",
         "0",
         "0",
         "0",
         "0",
         "0",
         "0",
         "0",
         "0",
         "0",
         "0",
         "0",
         "0",
         "0",
         "0",
         "0",
         "0",
         "0",
         "0",
         "0",
         "0",
         "0",
         "0",
         "0",
         "0",
         "0",
         "0",
         "0",
         "0",
         "0",
         "0",
         "0",
         "0",
         "0",
         "0",
         "0",
         "0",
         "0",
         "0",
         "0",
         "0",
         "0",
         "0",
         "0",
         "0",
         "0",
         "0",
         "0",
         "0",
         "0",
         "0",
         "0",
         "0",
         "0",
         "0",
         "0"
        ],
        [
         "2",
         "0",
         "0",
         "0",
         "0",
         "0",
         "0",
         "0",
         "0",
         "0",
         "0",
         "0",
         "0",
         "0",
         "0",
         "0",
         "0",
         "0",
         "0",
         "0",
         "0",
         "0",
         "0",
         "0",
         "0",
         "0",
         "0",
         "0",
         "0",
         "0",
         "0",
         "0",
         "0",
         "0",
         "0",
         "0",
         "0",
         "0",
         "0",
         "0",
         "0",
         "0",
         "0",
         "0",
         "0",
         "0",
         "0",
         "0",
         "0",
         "0",
         "0",
         "0",
         "0",
         "0",
         "0",
         "0",
         "0",
         "0",
         "0",
         "0",
         "0",
         "0",
         "0",
         "0",
         "0",
         "0",
         "0",
         "0",
         "0",
         "0",
         "0",
         "0",
         "0",
         "0",
         "0",
         "2",
         "0",
         "0",
         "0",
         "0",
         "0",
         "0",
         "0",
         "0",
         "0",
         "0",
         "0",
         "0",
         "0",
         "0",
         "0",
         "0",
         "0",
         "0",
         "0"
        ],
        [
         "3",
         "0",
         "0",
         "0",
         "0",
         "0",
         "0",
         "0",
         "0",
         "0",
         "0",
         "0",
         "0",
         "0",
         "0",
         "0",
         "0",
         "0",
         "0",
         "0",
         "0",
         "0",
         "0",
         "0",
         "0",
         "0",
         "0",
         "1",
         "0",
         "0",
         "0",
         "0",
         "0",
         "0",
         "0",
         "0",
         "0",
         "0",
         "0",
         "0",
         "0",
         "0",
         "0",
         "0",
         "0",
         "0",
         "0",
         "0",
         "0",
         "1",
         "1",
         "0",
         "0",
         "0",
         "0",
         "0",
         "0",
         "0",
         "0",
         "0",
         "0",
         "0",
         "0",
         "0",
         "0",
         "0",
         "0",
         "0",
         "0",
         "0",
         "0",
         "0",
         "0",
         "0",
         "0",
         "0",
         "0",
         "0",
         "0",
         "0",
         "0",
         "0",
         "0",
         "0",
         "0",
         "0",
         "0",
         "0",
         "0",
         "0",
         "0",
         "0",
         "0",
         "0",
         "0"
        ],
        [
         "4",
         "0",
         "0",
         "0",
         "0",
         "0",
         "0",
         "0",
         "0",
         "0",
         "0",
         "0",
         "0",
         "0",
         "0",
         "0",
         "0",
         "0",
         "0",
         "0",
         "0",
         "0",
         "0",
         "0",
         "0",
         "0",
         "0",
         "0",
         "0",
         "0",
         "0",
         "0",
         "0",
         "0",
         "0",
         "0",
         "0",
         "0",
         "0",
         "0",
         "0",
         "0",
         "0",
         "0",
         "0",
         "0",
         "0",
         "0",
         "0",
         "0",
         "0",
         "0",
         "0",
         "0",
         "0",
         "0",
         "0",
         "0",
         "0",
         "0",
         "0",
         "1",
         "0",
         "0",
         "0",
         "0",
         "0",
         "0",
         "0",
         "0",
         "0",
         "0",
         "0",
         "0",
         "0",
         "0",
         "0",
         "0",
         "0",
         "0",
         "0",
         "0",
         "0",
         "0",
         "0",
         "0",
         "0",
         "0",
         "0",
         "0",
         "0",
         "0",
         "0",
         "0",
         "0"
        ],
        [
         "5",
         "0",
         "0",
         "0",
         "0",
         "0",
         "0",
         "0",
         "0",
         "0",
         "0",
         "0",
         "1",
         "0",
         "0",
         "0",
         "0",
         "0",
         "0",
         "0",
         "0",
         "0",
         "0",
         "0",
         "1",
         "0",
         "0",
         "0",
         "0",
         "0",
         "0",
         "0",
         "0",
         "0",
         "0",
         "0",
         "0",
         "0",
         "0",
         "0",
         "0",
         "0",
         "0",
         "0",
         "0",
         "0",
         "0",
         "0",
         "0",
         "0",
         "0",
         "0",
         "0",
         "0",
         "0",
         "0",
         "0",
         "0",
         "0",
         "0",
         "0",
         "0",
         "0",
         "0",
         "0",
         "0",
         "1",
         "0",
         "0",
         "0",
         "0",
         "0",
         "0",
         "0",
         "0",
         "0",
         "0",
         "0",
         "0",
         "0",
         "0",
         "0",
         "0",
         "0",
         "0",
         "0",
         "0",
         "0",
         "0",
         "0",
         "0",
         "0",
         "0",
         "0",
         "0"
        ]
       ],
       "shape": {
        "columns": 94,
        "rows": 5
       }
      },
      "text/html": [
       "<div>\n",
       "<style scoped>\n",
       "    .dataframe tbody tr th:only-of-type {\n",
       "        vertical-align: middle;\n",
       "    }\n",
       "\n",
       "    .dataframe tbody tr th {\n",
       "        vertical-align: top;\n",
       "    }\n",
       "\n",
       "    .dataframe thead th {\n",
       "        text-align: right;\n",
       "    }\n",
       "</style>\n",
       "<table border=\"1\" class=\"dataframe\">\n",
       "  <thead>\n",
       "    <tr style=\"text-align: right;\">\n",
       "      <th>Item</th>\n",
       "      <th>adjustment</th>\n",
       "      <th>afternoon with the baker</th>\n",
       "      <th>alfajores</th>\n",
       "      <th>argentina night</th>\n",
       "      <th>art tray</th>\n",
       "      <th>bacon</th>\n",
       "      <th>baguette</th>\n",
       "      <th>bakewell</th>\n",
       "      <th>bare popcorn</th>\n",
       "      <th>basket</th>\n",
       "      <th>...</th>\n",
       "      <th>the bart</th>\n",
       "      <th>the nomad</th>\n",
       "      <th>tiffin</th>\n",
       "      <th>toast</th>\n",
       "      <th>truffles</th>\n",
       "      <th>tshirt</th>\n",
       "      <th>valentine's card</th>\n",
       "      <th>vegan feast</th>\n",
       "      <th>vegan mincepie</th>\n",
       "      <th>victorian sponge</th>\n",
       "    </tr>\n",
       "    <tr>\n",
       "      <th>Transaction</th>\n",
       "      <th></th>\n",
       "      <th></th>\n",
       "      <th></th>\n",
       "      <th></th>\n",
       "      <th></th>\n",
       "      <th></th>\n",
       "      <th></th>\n",
       "      <th></th>\n",
       "      <th></th>\n",
       "      <th></th>\n",
       "      <th></th>\n",
       "      <th></th>\n",
       "      <th></th>\n",
       "      <th></th>\n",
       "      <th></th>\n",
       "      <th></th>\n",
       "      <th></th>\n",
       "      <th></th>\n",
       "      <th></th>\n",
       "      <th></th>\n",
       "      <th></th>\n",
       "    </tr>\n",
       "  </thead>\n",
       "  <tbody>\n",
       "    <tr>\n",
       "      <th>1</th>\n",
       "      <td>0</td>\n",
       "      <td>0</td>\n",
       "      <td>0</td>\n",
       "      <td>0</td>\n",
       "      <td>0</td>\n",
       "      <td>0</td>\n",
       "      <td>0</td>\n",
       "      <td>0</td>\n",
       "      <td>0</td>\n",
       "      <td>0</td>\n",
       "      <td>...</td>\n",
       "      <td>0</td>\n",
       "      <td>0</td>\n",
       "      <td>0</td>\n",
       "      <td>0</td>\n",
       "      <td>0</td>\n",
       "      <td>0</td>\n",
       "      <td>0</td>\n",
       "      <td>0</td>\n",
       "      <td>0</td>\n",
       "      <td>0</td>\n",
       "    </tr>\n",
       "    <tr>\n",
       "      <th>2</th>\n",
       "      <td>0</td>\n",
       "      <td>0</td>\n",
       "      <td>0</td>\n",
       "      <td>0</td>\n",
       "      <td>0</td>\n",
       "      <td>0</td>\n",
       "      <td>0</td>\n",
       "      <td>0</td>\n",
       "      <td>0</td>\n",
       "      <td>0</td>\n",
       "      <td>...</td>\n",
       "      <td>0</td>\n",
       "      <td>0</td>\n",
       "      <td>0</td>\n",
       "      <td>0</td>\n",
       "      <td>0</td>\n",
       "      <td>0</td>\n",
       "      <td>0</td>\n",
       "      <td>0</td>\n",
       "      <td>0</td>\n",
       "      <td>0</td>\n",
       "    </tr>\n",
       "    <tr>\n",
       "      <th>3</th>\n",
       "      <td>0</td>\n",
       "      <td>0</td>\n",
       "      <td>0</td>\n",
       "      <td>0</td>\n",
       "      <td>0</td>\n",
       "      <td>0</td>\n",
       "      <td>0</td>\n",
       "      <td>0</td>\n",
       "      <td>0</td>\n",
       "      <td>0</td>\n",
       "      <td>...</td>\n",
       "      <td>0</td>\n",
       "      <td>0</td>\n",
       "      <td>0</td>\n",
       "      <td>0</td>\n",
       "      <td>0</td>\n",
       "      <td>0</td>\n",
       "      <td>0</td>\n",
       "      <td>0</td>\n",
       "      <td>0</td>\n",
       "      <td>0</td>\n",
       "    </tr>\n",
       "    <tr>\n",
       "      <th>4</th>\n",
       "      <td>0</td>\n",
       "      <td>0</td>\n",
       "      <td>0</td>\n",
       "      <td>0</td>\n",
       "      <td>0</td>\n",
       "      <td>0</td>\n",
       "      <td>0</td>\n",
       "      <td>0</td>\n",
       "      <td>0</td>\n",
       "      <td>0</td>\n",
       "      <td>...</td>\n",
       "      <td>0</td>\n",
       "      <td>0</td>\n",
       "      <td>0</td>\n",
       "      <td>0</td>\n",
       "      <td>0</td>\n",
       "      <td>0</td>\n",
       "      <td>0</td>\n",
       "      <td>0</td>\n",
       "      <td>0</td>\n",
       "      <td>0</td>\n",
       "    </tr>\n",
       "    <tr>\n",
       "      <th>5</th>\n",
       "      <td>0</td>\n",
       "      <td>0</td>\n",
       "      <td>0</td>\n",
       "      <td>0</td>\n",
       "      <td>0</td>\n",
       "      <td>0</td>\n",
       "      <td>0</td>\n",
       "      <td>0</td>\n",
       "      <td>0</td>\n",
       "      <td>0</td>\n",
       "      <td>...</td>\n",
       "      <td>0</td>\n",
       "      <td>0</td>\n",
       "      <td>0</td>\n",
       "      <td>0</td>\n",
       "      <td>0</td>\n",
       "      <td>0</td>\n",
       "      <td>0</td>\n",
       "      <td>0</td>\n",
       "      <td>0</td>\n",
       "      <td>0</td>\n",
       "    </tr>\n",
       "  </tbody>\n",
       "</table>\n",
       "<p>5 rows × 94 columns</p>\n",
       "</div>"
      ],
      "text/plain": [
       "Item         adjustment  afternoon with the baker  alfajores  argentina night  \\\n",
       "Transaction                                                                     \n",
       "1                     0                         0          0                0   \n",
       "2                     0                         0          0                0   \n",
       "3                     0                         0          0                0   \n",
       "4                     0                         0          0                0   \n",
       "5                     0                         0          0                0   \n",
       "\n",
       "Item         art tray  bacon  baguette  bakewell  bare popcorn  basket  ...  \\\n",
       "Transaction                                                             ...   \n",
       "1                   0      0         0         0             0       0  ...   \n",
       "2                   0      0         0         0             0       0  ...   \n",
       "3                   0      0         0         0             0       0  ...   \n",
       "4                   0      0         0         0             0       0  ...   \n",
       "5                   0      0         0         0             0       0  ...   \n",
       "\n",
       "Item         the bart  the nomad  tiffin  toast  truffles  tshirt  \\\n",
       "Transaction                                                         \n",
       "1                   0          0       0      0         0       0   \n",
       "2                   0          0       0      0         0       0   \n",
       "3                   0          0       0      0         0       0   \n",
       "4                   0          0       0      0         0       0   \n",
       "5                   0          0       0      0         0       0   \n",
       "\n",
       "Item         valentine's card  vegan feast  vegan mincepie  victorian sponge  \n",
       "Transaction                                                                   \n",
       "1                           0            0               0                 0  \n",
       "2                           0            0               0                 0  \n",
       "3                           0            0               0                 0  \n",
       "4                           0            0               0                 0  \n",
       "5                           0            0               0                 0  \n",
       "\n",
       "[5 rows x 94 columns]"
      ]
     },
     "execution_count": 39,
     "metadata": {},
     "output_type": "execute_result"
    }
   ],
   "source": [
    "item_count_pivot= item_count_pivot.astype(\"int32\")\n",
    "item_count_pivot.head()"
   ]
  },
  {
   "cell_type": "code",
   "execution_count": 43,
   "id": "592f0304",
   "metadata": {},
   "outputs": [],
   "source": [
    "def encode(x):\n",
    "    if x <= 0:\n",
    "        return 0\n",
    "    elif x >= 1:\n",
    "        return 1\n",
    "    \n",
    "    item_count_pivot = item_count_pivot.applymap(encode)\n",
    "    item_count_pivot.head()\n"
   ]
  },
  {
   "cell_type": "code",
   "execution_count": 44,
   "id": "64b29229",
   "metadata": {},
   "outputs": [
    {
     "name": "stderr",
     "output_type": "stream",
     "text": [
      "C:\\Users\\fauzan\\AppData\\Local\\Temp\\ipykernel_8932\\3412376342.py:9: FutureWarning: DataFrame.applymap has been deprecated. Use DataFrame.map instead.\n",
      "  item_count_pivot_encoded = item_count_pivot.applymap(encode)\n"
     ]
    },
    {
     "name": "stdout",
     "output_type": "stream",
     "text": [
      "Ukuran Dataset setelah encoding: (9465, 94)\n"
     ]
    },
    {
     "data": {
      "application/vnd.microsoft.datawrangler.viewer.v0+json": {
       "columns": [
        {
         "name": "Transaction",
         "rawType": "int64",
         "type": "integer"
        },
        {
         "name": "adjustment",
         "rawType": "int64",
         "type": "integer"
        },
        {
         "name": "afternoon with the baker",
         "rawType": "int64",
         "type": "integer"
        },
        {
         "name": "alfajores",
         "rawType": "int64",
         "type": "integer"
        },
        {
         "name": "argentina night",
         "rawType": "int64",
         "type": "integer"
        },
        {
         "name": "art tray",
         "rawType": "int64",
         "type": "integer"
        },
        {
         "name": "bacon",
         "rawType": "int64",
         "type": "integer"
        },
        {
         "name": "baguette",
         "rawType": "int64",
         "type": "integer"
        },
        {
         "name": "bakewell",
         "rawType": "int64",
         "type": "integer"
        },
        {
         "name": "bare popcorn",
         "rawType": "int64",
         "type": "integer"
        },
        {
         "name": "basket",
         "rawType": "int64",
         "type": "integer"
        },
        {
         "name": "bowl nic pitt",
         "rawType": "int64",
         "type": "integer"
        },
        {
         "name": "bread",
         "rawType": "int64",
         "type": "integer"
        },
        {
         "name": "bread pudding",
         "rawType": "int64",
         "type": "integer"
        },
        {
         "name": "brioche and salami",
         "rawType": "int64",
         "type": "integer"
        },
        {
         "name": "brownie",
         "rawType": "int64",
         "type": "integer"
        },
        {
         "name": "cake",
         "rawType": "int64",
         "type": "integer"
        },
        {
         "name": "caramel bites",
         "rawType": "int64",
         "type": "integer"
        },
        {
         "name": "cherry me dried fruit",
         "rawType": "int64",
         "type": "integer"
        },
        {
         "name": "chicken sand",
         "rawType": "int64",
         "type": "integer"
        },
        {
         "name": "chicken stew",
         "rawType": "int64",
         "type": "integer"
        },
        {
         "name": "chimichurri oil",
         "rawType": "int64",
         "type": "integer"
        },
        {
         "name": "chocolates",
         "rawType": "int64",
         "type": "integer"
        },
        {
         "name": "christmas common",
         "rawType": "int64",
         "type": "integer"
        },
        {
         "name": "coffee",
         "rawType": "int64",
         "type": "integer"
        },
        {
         "name": "coffee granules",
         "rawType": "int64",
         "type": "integer"
        },
        {
         "name": "coke",
         "rawType": "int64",
         "type": "integer"
        },
        {
         "name": "cookies",
         "rawType": "int64",
         "type": "integer"
        },
        {
         "name": "crepes",
         "rawType": "int64",
         "type": "integer"
        },
        {
         "name": "crisps",
         "rawType": "int64",
         "type": "integer"
        },
        {
         "name": "drinking chocolate spoons",
         "rawType": "int64",
         "type": "integer"
        },
        {
         "name": "duck egg",
         "rawType": "int64",
         "type": "integer"
        },
        {
         "name": "dulce de leche",
         "rawType": "int64",
         "type": "integer"
        },
        {
         "name": "eggs",
         "rawType": "int64",
         "type": "integer"
        },
        {
         "name": "ella's kitchen pouches",
         "rawType": "int64",
         "type": "integer"
        },
        {
         "name": "empanadas",
         "rawType": "int64",
         "type": "integer"
        },
        {
         "name": "extra salami or feta",
         "rawType": "int64",
         "type": "integer"
        },
        {
         "name": "fairy doors",
         "rawType": "int64",
         "type": "integer"
        },
        {
         "name": "farm house",
         "rawType": "int64",
         "type": "integer"
        },
        {
         "name": "focaccia",
         "rawType": "int64",
         "type": "integer"
        },
        {
         "name": "frittata",
         "rawType": "int64",
         "type": "integer"
        },
        {
         "name": "fudge",
         "rawType": "int64",
         "type": "integer"
        },
        {
         "name": "gift voucher",
         "rawType": "int64",
         "type": "integer"
        },
        {
         "name": "gingerbread syrup",
         "rawType": "int64",
         "type": "integer"
        },
        {
         "name": "granola",
         "rawType": "int64",
         "type": "integer"
        },
        {
         "name": "hack the stack",
         "rawType": "int64",
         "type": "integer"
        },
        {
         "name": "half slice monster",
         "rawType": "int64",
         "type": "integer"
        },
        {
         "name": "hearty & seasonal",
         "rawType": "int64",
         "type": "integer"
        },
        {
         "name": "honey",
         "rawType": "int64",
         "type": "integer"
        },
        {
         "name": "hot chocolate",
         "rawType": "int64",
         "type": "integer"
        },
        {
         "name": "jam",
         "rawType": "int64",
         "type": "integer"
        },
        {
         "name": "jammie dodgers",
         "rawType": "int64",
         "type": "integer"
        },
        {
         "name": "juice",
         "rawType": "int64",
         "type": "integer"
        },
        {
         "name": "keeping it local",
         "rawType": "int64",
         "type": "integer"
        },
        {
         "name": "kids biscuit",
         "rawType": "int64",
         "type": "integer"
        },
        {
         "name": "lemon and coconut",
         "rawType": "int64",
         "type": "integer"
        },
        {
         "name": "medialuna",
         "rawType": "int64",
         "type": "integer"
        },
        {
         "name": "mighty protein",
         "rawType": "int64",
         "type": "integer"
        },
        {
         "name": "mineral water",
         "rawType": "int64",
         "type": "integer"
        },
        {
         "name": "mortimer",
         "rawType": "int64",
         "type": "integer"
        },
        {
         "name": "muesli",
         "rawType": "int64",
         "type": "integer"
        },
        {
         "name": "muffin",
         "rawType": "int64",
         "type": "integer"
        },
        {
         "name": "my-5 fruit shoot",
         "rawType": "int64",
         "type": "integer"
        },
        {
         "name": "nomad bag",
         "rawType": "int64",
         "type": "integer"
        },
        {
         "name": "olum & polenta",
         "rawType": "int64",
         "type": "integer"
        },
        {
         "name": "panatone",
         "rawType": "int64",
         "type": "integer"
        },
        {
         "name": "pastry",
         "rawType": "int64",
         "type": "integer"
        },
        {
         "name": "pick and mix bowls",
         "rawType": "int64",
         "type": "integer"
        },
        {
         "name": "pintxos",
         "rawType": "int64",
         "type": "integer"
        },
        {
         "name": "polenta",
         "rawType": "int64",
         "type": "integer"
        },
        {
         "name": "postcard",
         "rawType": "int64",
         "type": "integer"
        },
        {
         "name": "raspberry shortbread sandwich",
         "rawType": "int64",
         "type": "integer"
        },
        {
         "name": "raw bars",
         "rawType": "int64",
         "type": "integer"
        },
        {
         "name": "salad",
         "rawType": "int64",
         "type": "integer"
        },
        {
         "name": "sandwich",
         "rawType": "int64",
         "type": "integer"
        },
        {
         "name": "scandinavian",
         "rawType": "int64",
         "type": "integer"
        },
        {
         "name": "scone",
         "rawType": "int64",
         "type": "integer"
        },
        {
         "name": "siblings",
         "rawType": "int64",
         "type": "integer"
        },
        {
         "name": "smoothies",
         "rawType": "int64",
         "type": "integer"
        },
        {
         "name": "soup",
         "rawType": "int64",
         "type": "integer"
        },
        {
         "name": "spanish brunch",
         "rawType": "int64",
         "type": "integer"
        },
        {
         "name": "spread",
         "rawType": "int64",
         "type": "integer"
        },
        {
         "name": "tacos/fajita",
         "rawType": "int64",
         "type": "integer"
        },
        {
         "name": "tartine",
         "rawType": "int64",
         "type": "integer"
        },
        {
         "name": "tea",
         "rawType": "int64",
         "type": "integer"
        },
        {
         "name": "the bart",
         "rawType": "int64",
         "type": "integer"
        },
        {
         "name": "the nomad",
         "rawType": "int64",
         "type": "integer"
        },
        {
         "name": "tiffin",
         "rawType": "int64",
         "type": "integer"
        },
        {
         "name": "toast",
         "rawType": "int64",
         "type": "integer"
        },
        {
         "name": "truffles",
         "rawType": "int64",
         "type": "integer"
        },
        {
         "name": "tshirt",
         "rawType": "int64",
         "type": "integer"
        },
        {
         "name": "valentine's card",
         "rawType": "int64",
         "type": "integer"
        },
        {
         "name": "vegan feast",
         "rawType": "int64",
         "type": "integer"
        },
        {
         "name": "vegan mincepie",
         "rawType": "int64",
         "type": "integer"
        },
        {
         "name": "victorian sponge",
         "rawType": "int64",
         "type": "integer"
        }
       ],
       "ref": "5db5bd75-7dc1-42d9-b699-5326f23842eb",
       "rows": [
        [
         "1",
         "0",
         "0",
         "0",
         "0",
         "0",
         "0",
         "0",
         "0",
         "0",
         "0",
         "0",
         "1",
         "0",
         "0",
         "0",
         "0",
         "0",
         "0",
         "0",
         "0",
         "0",
         "0",
         "0",
         "0",
         "0",
         "0",
         "0",
         "0",
         "0",
         "0",
         "0",
         "0",
         "0",
         "0",
         "0",
         "0",
         "0",
         "0",
         "0",
         "0",
         "0",
         "0",
         "0",
         "0",
         "0",
         "0",
         "0",
         "0",
         "0",
         "0",
         "0",
         "0",
         "0",
         "0",
         "0",
         "0",
         "0",
         "0",
         "0",
         "0",
         "0",
         "0",
         "0",
         "0",
         "0",
         "0",
         "0",
         "0",
         "0",
         "0",
         "0",
         "0",
         "0",
         "0",
         "0",
         "0",
         "0",
         "0",
         "0",
         "0",
         "0",
         "0",
         "0",
         "0",
         "0",
         "0",
         "0",
         "0",
         "0",
         "0",
         "0",
         "0",
         "0",
         "0"
        ],
        [
         "2",
         "0",
         "0",
         "0",
         "0",
         "0",
         "0",
         "0",
         "0",
         "0",
         "0",
         "0",
         "0",
         "0",
         "0",
         "0",
         "0",
         "0",
         "0",
         "0",
         "0",
         "0",
         "0",
         "0",
         "0",
         "0",
         "0",
         "0",
         "0",
         "0",
         "0",
         "0",
         "0",
         "0",
         "0",
         "0",
         "0",
         "0",
         "0",
         "0",
         "0",
         "0",
         "0",
         "0",
         "0",
         "0",
         "0",
         "0",
         "0",
         "0",
         "0",
         "0",
         "0",
         "0",
         "0",
         "0",
         "0",
         "0",
         "0",
         "0",
         "0",
         "0",
         "0",
         "0",
         "0",
         "0",
         "0",
         "0",
         "0",
         "0",
         "0",
         "0",
         "0",
         "0",
         "0",
         "1",
         "0",
         "0",
         "0",
         "0",
         "0",
         "0",
         "0",
         "0",
         "0",
         "0",
         "0",
         "0",
         "0",
         "0",
         "0",
         "0",
         "0",
         "0",
         "0"
        ],
        [
         "3",
         "0",
         "0",
         "0",
         "0",
         "0",
         "0",
         "0",
         "0",
         "0",
         "0",
         "0",
         "0",
         "0",
         "0",
         "0",
         "0",
         "0",
         "0",
         "0",
         "0",
         "0",
         "0",
         "0",
         "0",
         "0",
         "0",
         "1",
         "0",
         "0",
         "0",
         "0",
         "0",
         "0",
         "0",
         "0",
         "0",
         "0",
         "0",
         "0",
         "0",
         "0",
         "0",
         "0",
         "0",
         "0",
         "0",
         "0",
         "0",
         "1",
         "1",
         "0",
         "0",
         "0",
         "0",
         "0",
         "0",
         "0",
         "0",
         "0",
         "0",
         "0",
         "0",
         "0",
         "0",
         "0",
         "0",
         "0",
         "0",
         "0",
         "0",
         "0",
         "0",
         "0",
         "0",
         "0",
         "0",
         "0",
         "0",
         "0",
         "0",
         "0",
         "0",
         "0",
         "0",
         "0",
         "0",
         "0",
         "0",
         "0",
         "0",
         "0",
         "0",
         "0",
         "0"
        ],
        [
         "4",
         "0",
         "0",
         "0",
         "0",
         "0",
         "0",
         "0",
         "0",
         "0",
         "0",
         "0",
         "0",
         "0",
         "0",
         "0",
         "0",
         "0",
         "0",
         "0",
         "0",
         "0",
         "0",
         "0",
         "0",
         "0",
         "0",
         "0",
         "0",
         "0",
         "0",
         "0",
         "0",
         "0",
         "0",
         "0",
         "0",
         "0",
         "0",
         "0",
         "0",
         "0",
         "0",
         "0",
         "0",
         "0",
         "0",
         "0",
         "0",
         "0",
         "0",
         "0",
         "0",
         "0",
         "0",
         "0",
         "0",
         "0",
         "0",
         "0",
         "0",
         "1",
         "0",
         "0",
         "0",
         "0",
         "0",
         "0",
         "0",
         "0",
         "0",
         "0",
         "0",
         "0",
         "0",
         "0",
         "0",
         "0",
         "0",
         "0",
         "0",
         "0",
         "0",
         "0",
         "0",
         "0",
         "0",
         "0",
         "0",
         "0",
         "0",
         "0",
         "0",
         "0",
         "0"
        ],
        [
         "5",
         "0",
         "0",
         "0",
         "0",
         "0",
         "0",
         "0",
         "0",
         "0",
         "0",
         "0",
         "1",
         "0",
         "0",
         "0",
         "0",
         "0",
         "0",
         "0",
         "0",
         "0",
         "0",
         "0",
         "1",
         "0",
         "0",
         "0",
         "0",
         "0",
         "0",
         "0",
         "0",
         "0",
         "0",
         "0",
         "0",
         "0",
         "0",
         "0",
         "0",
         "0",
         "0",
         "0",
         "0",
         "0",
         "0",
         "0",
         "0",
         "0",
         "0",
         "0",
         "0",
         "0",
         "0",
         "0",
         "0",
         "0",
         "0",
         "0",
         "0",
         "0",
         "0",
         "0",
         "0",
         "0",
         "1",
         "0",
         "0",
         "0",
         "0",
         "0",
         "0",
         "0",
         "0",
         "0",
         "0",
         "0",
         "0",
         "0",
         "0",
         "0",
         "0",
         "0",
         "0",
         "0",
         "0",
         "0",
         "0",
         "0",
         "0",
         "0",
         "0",
         "0",
         "0"
        ]
       ],
       "shape": {
        "columns": 94,
        "rows": 5
       }
      },
      "text/html": [
       "<div>\n",
       "<style scoped>\n",
       "    .dataframe tbody tr th:only-of-type {\n",
       "        vertical-align: middle;\n",
       "    }\n",
       "\n",
       "    .dataframe tbody tr th {\n",
       "        vertical-align: top;\n",
       "    }\n",
       "\n",
       "    .dataframe thead th {\n",
       "        text-align: right;\n",
       "    }\n",
       "</style>\n",
       "<table border=\"1\" class=\"dataframe\">\n",
       "  <thead>\n",
       "    <tr style=\"text-align: right;\">\n",
       "      <th>Item</th>\n",
       "      <th>adjustment</th>\n",
       "      <th>afternoon with the baker</th>\n",
       "      <th>alfajores</th>\n",
       "      <th>argentina night</th>\n",
       "      <th>art tray</th>\n",
       "      <th>bacon</th>\n",
       "      <th>baguette</th>\n",
       "      <th>bakewell</th>\n",
       "      <th>bare popcorn</th>\n",
       "      <th>basket</th>\n",
       "      <th>...</th>\n",
       "      <th>the bart</th>\n",
       "      <th>the nomad</th>\n",
       "      <th>tiffin</th>\n",
       "      <th>toast</th>\n",
       "      <th>truffles</th>\n",
       "      <th>tshirt</th>\n",
       "      <th>valentine's card</th>\n",
       "      <th>vegan feast</th>\n",
       "      <th>vegan mincepie</th>\n",
       "      <th>victorian sponge</th>\n",
       "    </tr>\n",
       "    <tr>\n",
       "      <th>Transaction</th>\n",
       "      <th></th>\n",
       "      <th></th>\n",
       "      <th></th>\n",
       "      <th></th>\n",
       "      <th></th>\n",
       "      <th></th>\n",
       "      <th></th>\n",
       "      <th></th>\n",
       "      <th></th>\n",
       "      <th></th>\n",
       "      <th></th>\n",
       "      <th></th>\n",
       "      <th></th>\n",
       "      <th></th>\n",
       "      <th></th>\n",
       "      <th></th>\n",
       "      <th></th>\n",
       "      <th></th>\n",
       "      <th></th>\n",
       "      <th></th>\n",
       "      <th></th>\n",
       "    </tr>\n",
       "  </thead>\n",
       "  <tbody>\n",
       "    <tr>\n",
       "      <th>1</th>\n",
       "      <td>0</td>\n",
       "      <td>0</td>\n",
       "      <td>0</td>\n",
       "      <td>0</td>\n",
       "      <td>0</td>\n",
       "      <td>0</td>\n",
       "      <td>0</td>\n",
       "      <td>0</td>\n",
       "      <td>0</td>\n",
       "      <td>0</td>\n",
       "      <td>...</td>\n",
       "      <td>0</td>\n",
       "      <td>0</td>\n",
       "      <td>0</td>\n",
       "      <td>0</td>\n",
       "      <td>0</td>\n",
       "      <td>0</td>\n",
       "      <td>0</td>\n",
       "      <td>0</td>\n",
       "      <td>0</td>\n",
       "      <td>0</td>\n",
       "    </tr>\n",
       "    <tr>\n",
       "      <th>2</th>\n",
       "      <td>0</td>\n",
       "      <td>0</td>\n",
       "      <td>0</td>\n",
       "      <td>0</td>\n",
       "      <td>0</td>\n",
       "      <td>0</td>\n",
       "      <td>0</td>\n",
       "      <td>0</td>\n",
       "      <td>0</td>\n",
       "      <td>0</td>\n",
       "      <td>...</td>\n",
       "      <td>0</td>\n",
       "      <td>0</td>\n",
       "      <td>0</td>\n",
       "      <td>0</td>\n",
       "      <td>0</td>\n",
       "      <td>0</td>\n",
       "      <td>0</td>\n",
       "      <td>0</td>\n",
       "      <td>0</td>\n",
       "      <td>0</td>\n",
       "    </tr>\n",
       "    <tr>\n",
       "      <th>3</th>\n",
       "      <td>0</td>\n",
       "      <td>0</td>\n",
       "      <td>0</td>\n",
       "      <td>0</td>\n",
       "      <td>0</td>\n",
       "      <td>0</td>\n",
       "      <td>0</td>\n",
       "      <td>0</td>\n",
       "      <td>0</td>\n",
       "      <td>0</td>\n",
       "      <td>...</td>\n",
       "      <td>0</td>\n",
       "      <td>0</td>\n",
       "      <td>0</td>\n",
       "      <td>0</td>\n",
       "      <td>0</td>\n",
       "      <td>0</td>\n",
       "      <td>0</td>\n",
       "      <td>0</td>\n",
       "      <td>0</td>\n",
       "      <td>0</td>\n",
       "    </tr>\n",
       "    <tr>\n",
       "      <th>4</th>\n",
       "      <td>0</td>\n",
       "      <td>0</td>\n",
       "      <td>0</td>\n",
       "      <td>0</td>\n",
       "      <td>0</td>\n",
       "      <td>0</td>\n",
       "      <td>0</td>\n",
       "      <td>0</td>\n",
       "      <td>0</td>\n",
       "      <td>0</td>\n",
       "      <td>...</td>\n",
       "      <td>0</td>\n",
       "      <td>0</td>\n",
       "      <td>0</td>\n",
       "      <td>0</td>\n",
       "      <td>0</td>\n",
       "      <td>0</td>\n",
       "      <td>0</td>\n",
       "      <td>0</td>\n",
       "      <td>0</td>\n",
       "      <td>0</td>\n",
       "    </tr>\n",
       "    <tr>\n",
       "      <th>5</th>\n",
       "      <td>0</td>\n",
       "      <td>0</td>\n",
       "      <td>0</td>\n",
       "      <td>0</td>\n",
       "      <td>0</td>\n",
       "      <td>0</td>\n",
       "      <td>0</td>\n",
       "      <td>0</td>\n",
       "      <td>0</td>\n",
       "      <td>0</td>\n",
       "      <td>...</td>\n",
       "      <td>0</td>\n",
       "      <td>0</td>\n",
       "      <td>0</td>\n",
       "      <td>0</td>\n",
       "      <td>0</td>\n",
       "      <td>0</td>\n",
       "      <td>0</td>\n",
       "      <td>0</td>\n",
       "      <td>0</td>\n",
       "      <td>0</td>\n",
       "    </tr>\n",
       "  </tbody>\n",
       "</table>\n",
       "<p>5 rows × 94 columns</p>\n",
       "</div>"
      ],
      "text/plain": [
       "Item         adjustment  afternoon with the baker  alfajores  argentina night  \\\n",
       "Transaction                                                                     \n",
       "1                     0                         0          0                0   \n",
       "2                     0                         0          0                0   \n",
       "3                     0                         0          0                0   \n",
       "4                     0                         0          0                0   \n",
       "5                     0                         0          0                0   \n",
       "\n",
       "Item         art tray  bacon  baguette  bakewell  bare popcorn  basket  ...  \\\n",
       "Transaction                                                             ...   \n",
       "1                   0      0         0         0             0       0  ...   \n",
       "2                   0      0         0         0             0       0  ...   \n",
       "3                   0      0         0         0             0       0  ...   \n",
       "4                   0      0         0         0             0       0  ...   \n",
       "5                   0      0         0         0             0       0  ...   \n",
       "\n",
       "Item         the bart  the nomad  tiffin  toast  truffles  tshirt  \\\n",
       "Transaction                                                         \n",
       "1                   0          0       0      0         0       0   \n",
       "2                   0          0       0      0         0       0   \n",
       "3                   0          0       0      0         0       0   \n",
       "4                   0          0       0      0         0       0   \n",
       "5                   0          0       0      0         0       0   \n",
       "\n",
       "Item         valentine's card  vegan feast  vegan mincepie  victorian sponge  \n",
       "Transaction                                                                   \n",
       "1                           0            0               0                 0  \n",
       "2                           0            0               0                 0  \n",
       "3                           0            0               0                 0  \n",
       "4                           0            0               0                 0  \n",
       "5                           0            0               0                 0  \n",
       "\n",
       "[5 rows x 94 columns]"
      ]
     },
     "execution_count": 44,
     "metadata": {},
     "output_type": "execute_result"
    }
   ],
   "source": [
    "# Definisikan fungsi encode\n",
    "def encode(x):\n",
    "    if x <= 0:\n",
    "        return 0\n",
    "    else:  # Untuk semua nilai > 0, kembalikan 1\n",
    "        return 1\n",
    "\n",
    "# Terapkan fungsi ke pivot table (di luar fungsi encode)\n",
    "item_count_pivot_encoded = item_count_pivot.applymap(encode)\n",
    "\n",
    "# Tampilkan hasil\n",
    "print(\"Ukuran Dataset setelah encoding:\", item_count_pivot_encoded.shape)\n",
    "item_count_pivot_encoded.head()"
   ]
  },
  {
   "cell_type": "code",
   "execution_count": 45,
   "id": "f9cdddd4",
   "metadata": {},
   "outputs": [
    {
     "name": "stdout",
     "output_type": "stream",
     "text": [
      "Ukuran Dataset : (9465, 94)\n",
      "Jumlah Transaksi : 9465\n",
      "jumlah Items : 94\n"
     ]
    }
   ],
   "source": [
    "print(\"Ukuran Dataset :\", item_count_pivot.shape)\n",
    "print(\"Jumlah Transaksi :\", item_count_pivot.shape[0])\n",
    "print(\"jumlah Items :\", item_count_pivot.shape[1])"
   ]
  },
  {
   "cell_type": "code",
   "execution_count": 49,
   "id": "2a95d89c",
   "metadata": {},
   "outputs": [
    {
     "ename": "ValueError",
     "evalue": "The allowed values for a DataFrame are True, False, 0, 1. Found value 2",
     "output_type": "error",
     "traceback": [
      "\u001b[1;31m---------------------------------------------------------------------------\u001b[0m",
      "\u001b[1;31mValueError\u001b[0m                                Traceback (most recent call last)",
      "Cell \u001b[1;32mIn[49], line 2\u001b[0m\n\u001b[0;32m      1\u001b[0m support \u001b[38;5;241m=\u001b[39m \u001b[38;5;241m0.01\u001b[39m\n\u001b[1;32m----> 2\u001b[0m frequent_items \u001b[38;5;241m=\u001b[39m apriori(item_count_pivot, min_support\u001b[38;5;241m=\u001b[39m support, use_colnames\u001b[38;5;241m=\u001b[39m\u001b[38;5;28;01mTrue\u001b[39;00m)\n\u001b[0;32m      3\u001b[0m frequent_items\u001b[38;5;241m.\u001b[39msort_values(\u001b[38;5;124m\"\u001b[39m\u001b[38;5;124msupport\u001b[39m\u001b[38;5;124m\"\u001b[39m, ascending\u001b[38;5;241m=\u001b[39m\u001b[38;5;28;01mFalse\u001b[39;00m)\u001b[38;5;241m.\u001b[39mhead(\u001b[38;5;241m10\u001b[39m)\n",
      "File \u001b[1;32mc:\\Users\\fauzan\\anaconda3\\Lib\\site-packages\\mlxtend\\frequent_patterns\\apriori.py:241\u001b[0m, in \u001b[0;36mapriori\u001b[1;34m(df, min_support, use_colnames, max_len, verbose, low_memory)\u001b[0m\n\u001b[0;32m    234\u001b[0m \u001b[38;5;28;01mif\u001b[39;00m min_support \u001b[38;5;241m<\u001b[39m\u001b[38;5;241m=\u001b[39m \u001b[38;5;241m0.0\u001b[39m:\n\u001b[0;32m    235\u001b[0m     \u001b[38;5;28;01mraise\u001b[39;00m \u001b[38;5;167;01mValueError\u001b[39;00m(\n\u001b[0;32m    236\u001b[0m         \u001b[38;5;124m\"\u001b[39m\u001b[38;5;124m`min_support` must be a positive \u001b[39m\u001b[38;5;124m\"\u001b[39m\n\u001b[0;32m    237\u001b[0m         \u001b[38;5;124m\"\u001b[39m\u001b[38;5;124mnumber within the interval `(0, 1]`. \u001b[39m\u001b[38;5;124m\"\u001b[39m\n\u001b[0;32m    238\u001b[0m         \u001b[38;5;124m\"\u001b[39m\u001b[38;5;124mGot \u001b[39m\u001b[38;5;132;01m%s\u001b[39;00m\u001b[38;5;124m.\u001b[39m\u001b[38;5;124m\"\u001b[39m \u001b[38;5;241m%\u001b[39m min_support\n\u001b[0;32m    239\u001b[0m     )\n\u001b[1;32m--> 241\u001b[0m fpc\u001b[38;5;241m.\u001b[39mvalid_input_check(df)\n\u001b[0;32m    243\u001b[0m \u001b[38;5;28;01mif\u001b[39;00m \u001b[38;5;28mhasattr\u001b[39m(df, \u001b[38;5;124m\"\u001b[39m\u001b[38;5;124msparse\u001b[39m\u001b[38;5;124m\"\u001b[39m):\n\u001b[0;32m    244\u001b[0m     \u001b[38;5;66;03m# DataFrame with SparseArray (pandas >= 0.24)\u001b[39;00m\n\u001b[0;32m    245\u001b[0m     \u001b[38;5;28;01mif\u001b[39;00m df\u001b[38;5;241m.\u001b[39msize \u001b[38;5;241m==\u001b[39m \u001b[38;5;241m0\u001b[39m:\n",
      "File \u001b[1;32mc:\\Users\\fauzan\\anaconda3\\Lib\\site-packages\\mlxtend\\frequent_patterns\\fpcommon.py:209\u001b[0m, in \u001b[0;36mvalid_input_check\u001b[1;34m(df, null_values)\u001b[0m\n\u001b[0;32m    204\u001b[0m \u001b[38;5;28;01mif\u001b[39;00m null_values:\n\u001b[0;32m    205\u001b[0m     s \u001b[38;5;241m=\u001b[39m (\n\u001b[0;32m    206\u001b[0m         \u001b[38;5;124m\"\u001b[39m\u001b[38;5;124mThe allowed values for a DataFrame\u001b[39m\u001b[38;5;124m\"\u001b[39m\n\u001b[0;32m    207\u001b[0m         \u001b[38;5;124m\"\u001b[39m\u001b[38;5;124m are True, False, 0, 1, NaN. Found value \u001b[39m\u001b[38;5;132;01m%s\u001b[39;00m\u001b[38;5;124m\"\u001b[39m \u001b[38;5;241m%\u001b[39m (val)\n\u001b[0;32m    208\u001b[0m     )\n\u001b[1;32m--> 209\u001b[0m \u001b[38;5;28;01mraise\u001b[39;00m \u001b[38;5;167;01mValueError\u001b[39;00m(s)\n",
      "\u001b[1;31mValueError\u001b[0m: The allowed values for a DataFrame are True, False, 0, 1. Found value 2"
     ]
    }
   ],
   "source": [
    "support = 0.01\n",
    "frequent_items = apriori(item_count_pivot, min_support= support, use_colnames=True)\n",
    "frequent_items.sort_values(\"support\", ascending=False).head(10)"
   ]
  },
  {
   "cell_type": "code",
   "execution_count": 50,
   "id": "6bfcb44f",
   "metadata": {},
   "outputs": [
    {
     "data": {
      "application/vnd.microsoft.datawrangler.viewer.v0+json": {
       "columns": [
        {
         "name": "index",
         "rawType": "int64",
         "type": "integer"
        },
        {
         "name": "support",
         "rawType": "float64",
         "type": "float"
        },
        {
         "name": "itemsets",
         "rawType": "object",
         "type": "unknown"
        }
       ],
       "ref": "08d7ea66-67c1-413f-a299-61914a4a6114",
       "rows": [
        [
         "6",
         "0.47839408346539886",
         "frozenset({'coffee'})"
        ],
        [
         "2",
         "0.32720549392498677",
         "frozenset({'bread'})"
        ],
        [
         "26",
         "0.14263074484944532",
         "frozenset({'tea'})"
        ],
        [
         "4",
         "0.10385631273111463",
         "frozenset({'cake'})"
        ],
        [
         "34",
         "0.09001584786053883",
         "frozenset({'coffee', 'bread'})"
        ],
        [
         "19",
         "0.0861067089276281",
         "frozenset({'pastry'})"
        ],
        [
         "21",
         "0.07184363444268357",
         "frozenset({'sandwich'})"
        ],
        [
         "16",
         "0.061806656101426306",
         "frozenset({'medialuna'})"
        ],
        [
         "12",
         "0.05832012678288431",
         "frozenset({'hot chocolate'})"
        ],
        [
         "42",
         "0.054727945060750134",
         "frozenset({'cake', 'coffee'})"
        ]
       ],
       "shape": {
        "columns": 2,
        "rows": 10
       }
      },
      "text/html": [
       "<div>\n",
       "<style scoped>\n",
       "    .dataframe tbody tr th:only-of-type {\n",
       "        vertical-align: middle;\n",
       "    }\n",
       "\n",
       "    .dataframe tbody tr th {\n",
       "        vertical-align: top;\n",
       "    }\n",
       "\n",
       "    .dataframe thead th {\n",
       "        text-align: right;\n",
       "    }\n",
       "</style>\n",
       "<table border=\"1\" class=\"dataframe\">\n",
       "  <thead>\n",
       "    <tr style=\"text-align: right;\">\n",
       "      <th></th>\n",
       "      <th>support</th>\n",
       "      <th>itemsets</th>\n",
       "    </tr>\n",
       "  </thead>\n",
       "  <tbody>\n",
       "    <tr>\n",
       "      <th>6</th>\n",
       "      <td>0.478394</td>\n",
       "      <td>(coffee)</td>\n",
       "    </tr>\n",
       "    <tr>\n",
       "      <th>2</th>\n",
       "      <td>0.327205</td>\n",
       "      <td>(bread)</td>\n",
       "    </tr>\n",
       "    <tr>\n",
       "      <th>26</th>\n",
       "      <td>0.142631</td>\n",
       "      <td>(tea)</td>\n",
       "    </tr>\n",
       "    <tr>\n",
       "      <th>4</th>\n",
       "      <td>0.103856</td>\n",
       "      <td>(cake)</td>\n",
       "    </tr>\n",
       "    <tr>\n",
       "      <th>34</th>\n",
       "      <td>0.090016</td>\n",
       "      <td>(coffee, bread)</td>\n",
       "    </tr>\n",
       "    <tr>\n",
       "      <th>19</th>\n",
       "      <td>0.086107</td>\n",
       "      <td>(pastry)</td>\n",
       "    </tr>\n",
       "    <tr>\n",
       "      <th>21</th>\n",
       "      <td>0.071844</td>\n",
       "      <td>(sandwich)</td>\n",
       "    </tr>\n",
       "    <tr>\n",
       "      <th>16</th>\n",
       "      <td>0.061807</td>\n",
       "      <td>(medialuna)</td>\n",
       "    </tr>\n",
       "    <tr>\n",
       "      <th>12</th>\n",
       "      <td>0.058320</td>\n",
       "      <td>(hot chocolate)</td>\n",
       "    </tr>\n",
       "    <tr>\n",
       "      <th>42</th>\n",
       "      <td>0.054728</td>\n",
       "      <td>(cake, coffee)</td>\n",
       "    </tr>\n",
       "  </tbody>\n",
       "</table>\n",
       "</div>"
      ],
      "text/plain": [
       "     support         itemsets\n",
       "6   0.478394         (coffee)\n",
       "2   0.327205          (bread)\n",
       "26  0.142631            (tea)\n",
       "4   0.103856           (cake)\n",
       "34  0.090016  (coffee, bread)\n",
       "19  0.086107         (pastry)\n",
       "21  0.071844       (sandwich)\n",
       "16  0.061807      (medialuna)\n",
       "12  0.058320  (hot chocolate)\n",
       "42  0.054728   (cake, coffee)"
      ]
     },
     "execution_count": 50,
     "metadata": {},
     "output_type": "execute_result"
    }
   ],
   "source": [
    "# Pastikan Anda telah membuat data yang tepat untuk analisis asosiasi\n",
    "from mlxtend.preprocessing import TransactionEncoder\n",
    "\n",
    "# Buat list of lists untuk setiap transaksi\n",
    "transactions = data.groupby('Transaction')['Item'].apply(list).values.tolist()\n",
    "\n",
    "# Encode data menggunakan TransactionEncoder\n",
    "te = TransactionEncoder()\n",
    "te_ary = te.fit(transactions).transform(transactions)\n",
    "df_encoded = pd.DataFrame(te_ary, columns=te.columns_)\n",
    "\n",
    "# Sekarang jalankan apriori\n",
    "support = 0.01\n",
    "frequent_items = apriori(df_encoded, min_support=support, use_colnames=True)\n",
    "frequent_items.sort_values(\"support\", ascending=False).head(10)"
   ]
  },
  {
   "cell_type": "code",
   "execution_count": 51,
   "id": "317c205c",
   "metadata": {},
   "outputs": [
    {
     "name": "stdout",
     "output_type": "stream",
     "text": [
      "          itemset   support\n",
      "6          coffee  0.478394\n",
      "2           bread  0.327205\n",
      "26            tea  0.142631\n",
      "4            cake  0.103856\n",
      "34  coffee, bread  0.090016\n",
      "19         pastry  0.086107\n",
      "21       sandwich  0.071844\n",
      "16      medialuna  0.061807\n",
      "12  hot chocolate  0.058320\n",
      "42   cake, coffee  0.054728\n"
     ]
    }
   ],
   "source": [
    "# Buat salinan dataframe untuk modifikasi\n",
    "frequent_items_formatted = frequent_items.copy()\n",
    "\n",
    "# Konversi frozenset ke string yang lebih mudah dibaca\n",
    "frequent_items_formatted['itemset'] = frequent_items_formatted['itemsets'].apply(\n",
    "    lambda x: ', '.join(list(x)) if len(x) > 0 else '{}'\n",
    ")\n",
    "\n",
    "# Urutkan dan tampilkan\n",
    "frequent_items_formatted = frequent_items_formatted.sort_values(\"support\", ascending=False)\n",
    "print(frequent_items_formatted[['itemset', 'support']].head(10))"
   ]
  },
  {
   "cell_type": "code",
   "execution_count": 52,
   "id": "a7b585ea",
   "metadata": {},
   "outputs": [
    {
     "data": {
      "application/vnd.microsoft.datawrangler.viewer.v0+json": {
       "columns": [
        {
         "name": "index",
         "rawType": "int64",
         "type": "integer"
        },
        {
         "name": "antecedents",
         "rawType": "object",
         "type": "unknown"
        },
        {
         "name": "consequents",
         "rawType": "object",
         "type": "unknown"
        },
        {
         "name": "support",
         "rawType": "float64",
         "type": "float"
        },
        {
         "name": "confidence",
         "rawType": "float64",
         "type": "float"
        },
        {
         "name": "lift",
         "rawType": "float64",
         "type": "float"
        }
       ],
       "ref": "3ee135e5-46cb-4a05-8994-06097eac2ae2",
       "rows": [
        [
         "30",
         "frozenset({'toast'})",
         "frozenset({'coffee'})",
         "0.023666138404648707",
         "0.7044025157232704",
         "1.4724314954330286"
        ],
        [
         "28",
         "frozenset({'spanish brunch'})",
         "frozenset({'coffee'})",
         "0.010882197569994718",
         "0.5988372093023255",
         "1.2517655004519679"
        ],
        [
         "18",
         "frozenset({'medialuna'})",
         "frozenset({'coffee'})",
         "0.03518225039619651",
         "0.5692307692307692",
         "1.1898783636857841"
        ],
        [
         "22",
         "frozenset({'pastry'})",
         "frozenset({'coffee'})",
         "0.04754358161648178",
         "0.5521472392638037",
         "1.154168202215526"
        ],
        [
         "0",
         "frozenset({'alfajores'})",
         "frozenset({'coffee'})",
         "0.0196513470681458",
         "0.5406976744186046",
         "1.1302348693401265"
        ],
        [
         "16",
         "frozenset({'juice'})",
         "frozenset({'coffee'})",
         "0.020602218700475437",
         "0.5342465753424658",
         "1.11674996369621"
        ],
        [
         "24",
         "frozenset({'sandwich'})",
         "frozenset({'coffee'})",
         "0.038246170100369785",
         "0.5323529411764706",
         "1.1127916493452503"
        ],
        [
         "6",
         "frozenset({'cake'})",
         "frozenset({'coffee'})",
         "0.054727945060750134",
         "0.5269582909460835",
         "1.1015150670946732"
        ],
        [
         "26",
         "frozenset({'scone'})",
         "frozenset({'coffee'})",
         "0.018066561014263075",
         "0.5229357798165138",
         "1.0931067040554998"
        ],
        [
         "12",
         "frozenset({'cookies'})",
         "frozenset({'coffee'})",
         "0.02820919175911252",
         "0.5184466019417476",
         "1.083722854986449"
        ],
        [
         "14",
         "frozenset({'hot chocolate'})",
         "frozenset({'coffee'})",
         "0.029582673005810883",
         "0.5072463768115942",
         "1.0603107236134584"
        ],
        [
         "5",
         "frozenset({'brownie'})",
         "frozenset({'coffee'})",
         "0.0196513470681458",
         "0.4907651715039578",
         "1.025859617554099"
        ],
        [
         "20",
         "frozenset({'muffin'})",
         "frozenset({'coffee'})",
         "0.018806127839408347",
         "0.489010989010989",
         "1.0221928027802585"
        ],
        [
         "2",
         "frozenset({'pastry'})",
         "frozenset({'bread'})",
         "0.029160063391442156",
         "0.33865030674846625",
         "1.0349774470049187"
        ],
        [
         "11",
         "frozenset({'cake'})",
         "frozenset({'tea'})",
         "0.02377179080824089",
         "0.2288911495422177",
         "1.6047812817904374"
        ],
        [
         "38",
         "frozenset({'tea', 'coffee'})",
         "frozenset({'cake'})",
         "0.010036978341257264",
         "0.20127118644067796",
         "1.9379773953825197"
        ],
        [
         "33",
         "frozenset({'sandwich'})",
         "frozenset({'tea'})",
         "0.014368726888536715",
         "0.2",
         "1.4022222222222223"
        ],
        [
         "8",
         "frozenset({'hot chocolate'})",
         "frozenset({'cake'})",
         "0.011410459587955626",
         "0.1956521739130435",
         "1.883873678623557"
        ],
        [
         "39",
         "frozenset({'cake', 'coffee'})",
         "frozenset({'tea'})",
         "0.010036978341257264",
         "0.1833976833976834",
         "1.2858215358215357"
        ],
        [
         "10",
         "frozenset({'tea'})",
         "frozenset({'cake'})",
         "0.02377179080824089",
         "0.16666666666666669",
         "1.6047812817904377"
        ]
       ],
       "shape": {
        "columns": 5,
        "rows": 20
       }
      },
      "text/html": [
       "<div>\n",
       "<style scoped>\n",
       "    .dataframe tbody tr th:only-of-type {\n",
       "        vertical-align: middle;\n",
       "    }\n",
       "\n",
       "    .dataframe tbody tr th {\n",
       "        vertical-align: top;\n",
       "    }\n",
       "\n",
       "    .dataframe thead th {\n",
       "        text-align: right;\n",
       "    }\n",
       "</style>\n",
       "<table border=\"1\" class=\"dataframe\">\n",
       "  <thead>\n",
       "    <tr style=\"text-align: right;\">\n",
       "      <th></th>\n",
       "      <th>antecedents</th>\n",
       "      <th>consequents</th>\n",
       "      <th>support</th>\n",
       "      <th>confidence</th>\n",
       "      <th>lift</th>\n",
       "    </tr>\n",
       "  </thead>\n",
       "  <tbody>\n",
       "    <tr>\n",
       "      <th>30</th>\n",
       "      <td>(toast)</td>\n",
       "      <td>(coffee)</td>\n",
       "      <td>0.023666</td>\n",
       "      <td>0.704403</td>\n",
       "      <td>1.472431</td>\n",
       "    </tr>\n",
       "    <tr>\n",
       "      <th>28</th>\n",
       "      <td>(spanish brunch)</td>\n",
       "      <td>(coffee)</td>\n",
       "      <td>0.010882</td>\n",
       "      <td>0.598837</td>\n",
       "      <td>1.251766</td>\n",
       "    </tr>\n",
       "    <tr>\n",
       "      <th>18</th>\n",
       "      <td>(medialuna)</td>\n",
       "      <td>(coffee)</td>\n",
       "      <td>0.035182</td>\n",
       "      <td>0.569231</td>\n",
       "      <td>1.189878</td>\n",
       "    </tr>\n",
       "    <tr>\n",
       "      <th>22</th>\n",
       "      <td>(pastry)</td>\n",
       "      <td>(coffee)</td>\n",
       "      <td>0.047544</td>\n",
       "      <td>0.552147</td>\n",
       "      <td>1.154168</td>\n",
       "    </tr>\n",
       "    <tr>\n",
       "      <th>0</th>\n",
       "      <td>(alfajores)</td>\n",
       "      <td>(coffee)</td>\n",
       "      <td>0.019651</td>\n",
       "      <td>0.540698</td>\n",
       "      <td>1.130235</td>\n",
       "    </tr>\n",
       "    <tr>\n",
       "      <th>16</th>\n",
       "      <td>(juice)</td>\n",
       "      <td>(coffee)</td>\n",
       "      <td>0.020602</td>\n",
       "      <td>0.534247</td>\n",
       "      <td>1.116750</td>\n",
       "    </tr>\n",
       "    <tr>\n",
       "      <th>24</th>\n",
       "      <td>(sandwich)</td>\n",
       "      <td>(coffee)</td>\n",
       "      <td>0.038246</td>\n",
       "      <td>0.532353</td>\n",
       "      <td>1.112792</td>\n",
       "    </tr>\n",
       "    <tr>\n",
       "      <th>6</th>\n",
       "      <td>(cake)</td>\n",
       "      <td>(coffee)</td>\n",
       "      <td>0.054728</td>\n",
       "      <td>0.526958</td>\n",
       "      <td>1.101515</td>\n",
       "    </tr>\n",
       "    <tr>\n",
       "      <th>26</th>\n",
       "      <td>(scone)</td>\n",
       "      <td>(coffee)</td>\n",
       "      <td>0.018067</td>\n",
       "      <td>0.522936</td>\n",
       "      <td>1.093107</td>\n",
       "    </tr>\n",
       "    <tr>\n",
       "      <th>12</th>\n",
       "      <td>(cookies)</td>\n",
       "      <td>(coffee)</td>\n",
       "      <td>0.028209</td>\n",
       "      <td>0.518447</td>\n",
       "      <td>1.083723</td>\n",
       "    </tr>\n",
       "    <tr>\n",
       "      <th>14</th>\n",
       "      <td>(hot chocolate)</td>\n",
       "      <td>(coffee)</td>\n",
       "      <td>0.029583</td>\n",
       "      <td>0.507246</td>\n",
       "      <td>1.060311</td>\n",
       "    </tr>\n",
       "    <tr>\n",
       "      <th>5</th>\n",
       "      <td>(brownie)</td>\n",
       "      <td>(coffee)</td>\n",
       "      <td>0.019651</td>\n",
       "      <td>0.490765</td>\n",
       "      <td>1.025860</td>\n",
       "    </tr>\n",
       "    <tr>\n",
       "      <th>20</th>\n",
       "      <td>(muffin)</td>\n",
       "      <td>(coffee)</td>\n",
       "      <td>0.018806</td>\n",
       "      <td>0.489011</td>\n",
       "      <td>1.022193</td>\n",
       "    </tr>\n",
       "    <tr>\n",
       "      <th>2</th>\n",
       "      <td>(pastry)</td>\n",
       "      <td>(bread)</td>\n",
       "      <td>0.029160</td>\n",
       "      <td>0.338650</td>\n",
       "      <td>1.034977</td>\n",
       "    </tr>\n",
       "    <tr>\n",
       "      <th>11</th>\n",
       "      <td>(cake)</td>\n",
       "      <td>(tea)</td>\n",
       "      <td>0.023772</td>\n",
       "      <td>0.228891</td>\n",
       "      <td>1.604781</td>\n",
       "    </tr>\n",
       "    <tr>\n",
       "      <th>38</th>\n",
       "      <td>(tea, coffee)</td>\n",
       "      <td>(cake)</td>\n",
       "      <td>0.010037</td>\n",
       "      <td>0.201271</td>\n",
       "      <td>1.937977</td>\n",
       "    </tr>\n",
       "    <tr>\n",
       "      <th>33</th>\n",
       "      <td>(sandwich)</td>\n",
       "      <td>(tea)</td>\n",
       "      <td>0.014369</td>\n",
       "      <td>0.200000</td>\n",
       "      <td>1.402222</td>\n",
       "    </tr>\n",
       "    <tr>\n",
       "      <th>8</th>\n",
       "      <td>(hot chocolate)</td>\n",
       "      <td>(cake)</td>\n",
       "      <td>0.011410</td>\n",
       "      <td>0.195652</td>\n",
       "      <td>1.883874</td>\n",
       "    </tr>\n",
       "    <tr>\n",
       "      <th>39</th>\n",
       "      <td>(cake, coffee)</td>\n",
       "      <td>(tea)</td>\n",
       "      <td>0.010037</td>\n",
       "      <td>0.183398</td>\n",
       "      <td>1.285822</td>\n",
       "    </tr>\n",
       "    <tr>\n",
       "      <th>10</th>\n",
       "      <td>(tea)</td>\n",
       "      <td>(cake)</td>\n",
       "      <td>0.023772</td>\n",
       "      <td>0.166667</td>\n",
       "      <td>1.604781</td>\n",
       "    </tr>\n",
       "  </tbody>\n",
       "</table>\n",
       "</div>"
      ],
      "text/plain": [
       "         antecedents consequents   support  confidence      lift\n",
       "30           (toast)    (coffee)  0.023666    0.704403  1.472431\n",
       "28  (spanish brunch)    (coffee)  0.010882    0.598837  1.251766\n",
       "18       (medialuna)    (coffee)  0.035182    0.569231  1.189878\n",
       "22          (pastry)    (coffee)  0.047544    0.552147  1.154168\n",
       "0        (alfajores)    (coffee)  0.019651    0.540698  1.130235\n",
       "16           (juice)    (coffee)  0.020602    0.534247  1.116750\n",
       "24        (sandwich)    (coffee)  0.038246    0.532353  1.112792\n",
       "6             (cake)    (coffee)  0.054728    0.526958  1.101515\n",
       "26           (scone)    (coffee)  0.018067    0.522936  1.093107\n",
       "12         (cookies)    (coffee)  0.028209    0.518447  1.083723\n",
       "14   (hot chocolate)    (coffee)  0.029583    0.507246  1.060311\n",
       "5          (brownie)    (coffee)  0.019651    0.490765  1.025860\n",
       "20          (muffin)    (coffee)  0.018806    0.489011  1.022193\n",
       "2           (pastry)     (bread)  0.029160    0.338650  1.034977\n",
       "11            (cake)       (tea)  0.023772    0.228891  1.604781\n",
       "38     (tea, coffee)      (cake)  0.010037    0.201271  1.937977\n",
       "33        (sandwich)       (tea)  0.014369    0.200000  1.402222\n",
       "8    (hot chocolate)      (cake)  0.011410    0.195652  1.883874\n",
       "39    (cake, coffee)       (tea)  0.010037    0.183398  1.285822\n",
       "10             (tea)      (cake)  0.023772    0.166667  1.604781"
      ]
     },
     "execution_count": 52,
     "metadata": {},
     "output_type": "execute_result"
    }
   ],
   "source": [
    "metric = \"lift\"\n",
    "min_threshold = 1\n",
    "\n",
    "rules = association_rules(frequent_items, metric = metric, min_threshold=min_threshold)[[\"antecedents\", \"consequents\", \"support\", \"confidence\", \"lift\"]]\n",
    "rules.sort_values('confidence', ascending=False,inplace=True)\n",
    "rules.head(20)"
   ]
  },
  {
   "cell_type": "code",
   "execution_count": 53,
   "id": "95185f05",
   "metadata": {},
   "outputs": [
    {
     "data": {
      "application/vnd.microsoft.datawrangler.viewer.v0+json": {
       "columns": [
        {
         "name": "index",
         "rawType": "int64",
         "type": "integer"
        },
        {
         "name": "antecedents",
         "rawType": "object",
         "type": "string"
        },
        {
         "name": "consequents",
         "rawType": "object",
         "type": "string"
        },
        {
         "name": "support",
         "rawType": "float64",
         "type": "float"
        },
        {
         "name": "confidence",
         "rawType": "float64",
         "type": "float"
        },
        {
         "name": "lift",
         "rawType": "float64",
         "type": "float"
        }
       ],
       "ref": "21968b92-3ce5-44b2-aaec-263d803d7c03",
       "rows": [
        [
         "30",
         "toast",
         "coffee",
         "0.023666138404648707",
         "0.7044025157232704",
         "1.4724314954330286"
        ],
        [
         "28",
         "spanish brunch",
         "coffee",
         "0.010882197569994718",
         "0.5988372093023255",
         "1.2517655004519679"
        ],
        [
         "18",
         "medialuna",
         "coffee",
         "0.03518225039619651",
         "0.5692307692307692",
         "1.1898783636857841"
        ],
        [
         "22",
         "pastry",
         "coffee",
         "0.04754358161648178",
         "0.5521472392638037",
         "1.154168202215526"
        ],
        [
         "0",
         "alfajores",
         "coffee",
         "0.0196513470681458",
         "0.5406976744186046",
         "1.1302348693401265"
        ],
        [
         "16",
         "juice",
         "coffee",
         "0.020602218700475437",
         "0.5342465753424658",
         "1.11674996369621"
        ],
        [
         "24",
         "sandwich",
         "coffee",
         "0.038246170100369785",
         "0.5323529411764706",
         "1.1127916493452503"
        ],
        [
         "6",
         "cake",
         "coffee",
         "0.054727945060750134",
         "0.5269582909460835",
         "1.1015150670946732"
        ],
        [
         "26",
         "scone",
         "coffee",
         "0.018066561014263075",
         "0.5229357798165138",
         "1.0931067040554998"
        ],
        [
         "12",
         "cookies",
         "coffee",
         "0.02820919175911252",
         "0.5184466019417476",
         "1.083722854986449"
        ],
        [
         "14",
         "hot chocolate",
         "coffee",
         "0.029582673005810883",
         "0.5072463768115942",
         "1.0603107236134584"
        ],
        [
         "5",
         "brownie",
         "coffee",
         "0.0196513470681458",
         "0.4907651715039578",
         "1.025859617554099"
        ],
        [
         "20",
         "muffin",
         "coffee",
         "0.018806127839408347",
         "0.489010989010989",
         "1.0221928027802585"
        ],
        [
         "2",
         "pastry",
         "bread",
         "0.029160063391442156",
         "0.33865030674846625",
         "1.0349774470049187"
        ],
        [
         "11",
         "cake",
         "tea",
         "0.02377179080824089",
         "0.2288911495422177",
         "1.6047812817904374"
        ],
        [
         "38",
         "tea, coffee",
         "cake",
         "0.010036978341257264",
         "0.20127118644067796",
         "1.9379773953825197"
        ],
        [
         "33",
         "sandwich",
         "tea",
         "0.014368726888536715",
         "0.2",
         "1.4022222222222223"
        ],
        [
         "8",
         "hot chocolate",
         "cake",
         "0.011410459587955626",
         "0.1956521739130435",
         "1.883873678623557"
        ],
        [
         "39",
         "cake, coffee",
         "tea",
         "0.010036978341257264",
         "0.1833976833976834",
         "1.2858215358215357"
        ],
        [
         "10",
         "tea",
         "cake",
         "0.02377179080824089",
         "0.16666666666666669",
         "1.6047812817904377"
        ]
       ],
       "shape": {
        "columns": 5,
        "rows": 20
       }
      },
      "text/html": [
       "<div>\n",
       "<style scoped>\n",
       "    .dataframe tbody tr th:only-of-type {\n",
       "        vertical-align: middle;\n",
       "    }\n",
       "\n",
       "    .dataframe tbody tr th {\n",
       "        vertical-align: top;\n",
       "    }\n",
       "\n",
       "    .dataframe thead th {\n",
       "        text-align: right;\n",
       "    }\n",
       "</style>\n",
       "<table border=\"1\" class=\"dataframe\">\n",
       "  <thead>\n",
       "    <tr style=\"text-align: right;\">\n",
       "      <th></th>\n",
       "      <th>antecedents</th>\n",
       "      <th>consequents</th>\n",
       "      <th>support</th>\n",
       "      <th>confidence</th>\n",
       "      <th>lift</th>\n",
       "    </tr>\n",
       "  </thead>\n",
       "  <tbody>\n",
       "    <tr>\n",
       "      <th>30</th>\n",
       "      <td>toast</td>\n",
       "      <td>coffee</td>\n",
       "      <td>0.023666</td>\n",
       "      <td>0.704403</td>\n",
       "      <td>1.472431</td>\n",
       "    </tr>\n",
       "    <tr>\n",
       "      <th>28</th>\n",
       "      <td>spanish brunch</td>\n",
       "      <td>coffee</td>\n",
       "      <td>0.010882</td>\n",
       "      <td>0.598837</td>\n",
       "      <td>1.251766</td>\n",
       "    </tr>\n",
       "    <tr>\n",
       "      <th>18</th>\n",
       "      <td>medialuna</td>\n",
       "      <td>coffee</td>\n",
       "      <td>0.035182</td>\n",
       "      <td>0.569231</td>\n",
       "      <td>1.189878</td>\n",
       "    </tr>\n",
       "    <tr>\n",
       "      <th>22</th>\n",
       "      <td>pastry</td>\n",
       "      <td>coffee</td>\n",
       "      <td>0.047544</td>\n",
       "      <td>0.552147</td>\n",
       "      <td>1.154168</td>\n",
       "    </tr>\n",
       "    <tr>\n",
       "      <th>0</th>\n",
       "      <td>alfajores</td>\n",
       "      <td>coffee</td>\n",
       "      <td>0.019651</td>\n",
       "      <td>0.540698</td>\n",
       "      <td>1.130235</td>\n",
       "    </tr>\n",
       "    <tr>\n",
       "      <th>16</th>\n",
       "      <td>juice</td>\n",
       "      <td>coffee</td>\n",
       "      <td>0.020602</td>\n",
       "      <td>0.534247</td>\n",
       "      <td>1.116750</td>\n",
       "    </tr>\n",
       "    <tr>\n",
       "      <th>24</th>\n",
       "      <td>sandwich</td>\n",
       "      <td>coffee</td>\n",
       "      <td>0.038246</td>\n",
       "      <td>0.532353</td>\n",
       "      <td>1.112792</td>\n",
       "    </tr>\n",
       "    <tr>\n",
       "      <th>6</th>\n",
       "      <td>cake</td>\n",
       "      <td>coffee</td>\n",
       "      <td>0.054728</td>\n",
       "      <td>0.526958</td>\n",
       "      <td>1.101515</td>\n",
       "    </tr>\n",
       "    <tr>\n",
       "      <th>26</th>\n",
       "      <td>scone</td>\n",
       "      <td>coffee</td>\n",
       "      <td>0.018067</td>\n",
       "      <td>0.522936</td>\n",
       "      <td>1.093107</td>\n",
       "    </tr>\n",
       "    <tr>\n",
       "      <th>12</th>\n",
       "      <td>cookies</td>\n",
       "      <td>coffee</td>\n",
       "      <td>0.028209</td>\n",
       "      <td>0.518447</td>\n",
       "      <td>1.083723</td>\n",
       "    </tr>\n",
       "    <tr>\n",
       "      <th>14</th>\n",
       "      <td>hot chocolate</td>\n",
       "      <td>coffee</td>\n",
       "      <td>0.029583</td>\n",
       "      <td>0.507246</td>\n",
       "      <td>1.060311</td>\n",
       "    </tr>\n",
       "    <tr>\n",
       "      <th>5</th>\n",
       "      <td>brownie</td>\n",
       "      <td>coffee</td>\n",
       "      <td>0.019651</td>\n",
       "      <td>0.490765</td>\n",
       "      <td>1.025860</td>\n",
       "    </tr>\n",
       "    <tr>\n",
       "      <th>20</th>\n",
       "      <td>muffin</td>\n",
       "      <td>coffee</td>\n",
       "      <td>0.018806</td>\n",
       "      <td>0.489011</td>\n",
       "      <td>1.022193</td>\n",
       "    </tr>\n",
       "    <tr>\n",
       "      <th>2</th>\n",
       "      <td>pastry</td>\n",
       "      <td>bread</td>\n",
       "      <td>0.029160</td>\n",
       "      <td>0.338650</td>\n",
       "      <td>1.034977</td>\n",
       "    </tr>\n",
       "    <tr>\n",
       "      <th>11</th>\n",
       "      <td>cake</td>\n",
       "      <td>tea</td>\n",
       "      <td>0.023772</td>\n",
       "      <td>0.228891</td>\n",
       "      <td>1.604781</td>\n",
       "    </tr>\n",
       "    <tr>\n",
       "      <th>38</th>\n",
       "      <td>tea, coffee</td>\n",
       "      <td>cake</td>\n",
       "      <td>0.010037</td>\n",
       "      <td>0.201271</td>\n",
       "      <td>1.937977</td>\n",
       "    </tr>\n",
       "    <tr>\n",
       "      <th>33</th>\n",
       "      <td>sandwich</td>\n",
       "      <td>tea</td>\n",
       "      <td>0.014369</td>\n",
       "      <td>0.200000</td>\n",
       "      <td>1.402222</td>\n",
       "    </tr>\n",
       "    <tr>\n",
       "      <th>8</th>\n",
       "      <td>hot chocolate</td>\n",
       "      <td>cake</td>\n",
       "      <td>0.011410</td>\n",
       "      <td>0.195652</td>\n",
       "      <td>1.883874</td>\n",
       "    </tr>\n",
       "    <tr>\n",
       "      <th>39</th>\n",
       "      <td>cake, coffee</td>\n",
       "      <td>tea</td>\n",
       "      <td>0.010037</td>\n",
       "      <td>0.183398</td>\n",
       "      <td>1.285822</td>\n",
       "    </tr>\n",
       "    <tr>\n",
       "      <th>10</th>\n",
       "      <td>tea</td>\n",
       "      <td>cake</td>\n",
       "      <td>0.023772</td>\n",
       "      <td>0.166667</td>\n",
       "      <td>1.604781</td>\n",
       "    </tr>\n",
       "  </tbody>\n",
       "</table>\n",
       "</div>"
      ],
      "text/plain": [
       "       antecedents consequents   support  confidence      lift\n",
       "30           toast      coffee  0.023666    0.704403  1.472431\n",
       "28  spanish brunch      coffee  0.010882    0.598837  1.251766\n",
       "18       medialuna      coffee  0.035182    0.569231  1.189878\n",
       "22          pastry      coffee  0.047544    0.552147  1.154168\n",
       "0        alfajores      coffee  0.019651    0.540698  1.130235\n",
       "16           juice      coffee  0.020602    0.534247  1.116750\n",
       "24        sandwich      coffee  0.038246    0.532353  1.112792\n",
       "6             cake      coffee  0.054728    0.526958  1.101515\n",
       "26           scone      coffee  0.018067    0.522936  1.093107\n",
       "12         cookies      coffee  0.028209    0.518447  1.083723\n",
       "14   hot chocolate      coffee  0.029583    0.507246  1.060311\n",
       "5          brownie      coffee  0.019651    0.490765  1.025860\n",
       "20          muffin      coffee  0.018806    0.489011  1.022193\n",
       "2           pastry       bread  0.029160    0.338650  1.034977\n",
       "11            cake         tea  0.023772    0.228891  1.604781\n",
       "38     tea, coffee        cake  0.010037    0.201271  1.937977\n",
       "33        sandwich         tea  0.014369    0.200000  1.402222\n",
       "8    hot chocolate        cake  0.011410    0.195652  1.883874\n",
       "39    cake, coffee         tea  0.010037    0.183398  1.285822\n",
       "10             tea        cake  0.023772    0.166667  1.604781"
      ]
     },
     "execution_count": 53,
     "metadata": {},
     "output_type": "execute_result"
    }
   ],
   "source": [
    "metric = \"lift\"\n",
    "min_threshold = 1\n",
    "\n",
    "rules = association_rules(frequent_items, metric=metric, min_threshold=min_threshold)[[\"antecedents\", \"consequents\", \"support\", \"confidence\", \"lift\"]]\n",
    "\n",
    "# Mengubah frozenset menjadi string yang mudah dibaca\n",
    "rules['antecedents'] = rules['antecedents'].apply(lambda x: ', '.join(list(x)))\n",
    "rules['consequents'] = rules['consequents'].apply(lambda x: ', '.join(list(x)))\n",
    "\n",
    "# Mengurutkan berdasarkan confidence\n",
    "rules.sort_values('confidence', ascending=False, inplace=True)\n",
    "\n",
    "# Menampilkan 20 aturan teratas\n",
    "rules.head(20)"
   ]
  }
 ],
 "metadata": {
  "kernelspec": {
   "display_name": "base",
   "language": "python",
   "name": "python3"
  },
  "language_info": {
   "codemirror_mode": {
    "name": "ipython",
    "version": 3
   },
   "file_extension": ".py",
   "mimetype": "text/x-python",
   "name": "python",
   "nbconvert_exporter": "python",
   "pygments_lexer": "ipython3",
   "version": "3.12.7"
  }
 },
 "nbformat": 4,
 "nbformat_minor": 5
}
